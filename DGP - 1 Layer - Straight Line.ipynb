{
 "cells": [
  {
   "cell_type": "code",
   "execution_count": 64,
   "metadata": {},
   "outputs": [],
   "source": [
    "import numpy as np\n",
    "import matplotlib.pyplot as plt\n",
    "\n",
    "from scipy.spatial.distance import cdist\n",
    "\n",
    "from numpy.linalg import inv\n",
    "from numpy.linalg import det\n",
    "from numpy.linalg import eig\n",
    "\n",
    "import tensorflow as tf\n",
    "import tensorflow_probability as tfp\n",
    "\n",
    "import gpflow\n",
    "\n"
   ]
  },
  {
   "cell_type": "code",
   "execution_count": 65,
   "metadata": {},
   "outputs": [],
   "source": [
    "def cholesky_with_jitter(K, jitter):\n",
    "    k_diag = tf.linalg.diag_part(K)\n",
    "    jitter_diag = tf.fill(tf.shape(k_diag), tf.cast(jitter, dtype=K.dtype))\n",
    "    jittered_K = tf.linalg.set_diag(K, k_diag + jitter_diag)\n",
    "    return tf.linalg.cholesky(jittered_K)\n",
    "\n",
    "K1 = gpflow.kernels.SquaredExponential(variance=1, lengthscales=5)\n",
    "\n",
    "pi = tf.cast(np.pi, tf.float64)\n",
    "\n",
    "noise = tf.cast(1, tf.float64)"
   ]
  },
  {
   "cell_type": "code",
   "execution_count": 66,
   "metadata": {},
   "outputs": [],
   "source": [
    "N = 100\n",
    "M = 30"
   ]
  },
  {
   "cell_type": "code",
   "execution_count": 67,
   "metadata": {},
   "outputs": [],
   "source": [
    "Xs = np.linspace(1, 10, 100).reshape(-1,1)\n",
    "X = np.random.uniform(1, 10, N).reshape(-1,1)\n",
    "Y = X\n",
    "\n",
    "Z1 = X[0:M]"
   ]
  },
  {
   "cell_type": "code",
   "execution_count": 68,
   "metadata": {},
   "outputs": [],
   "source": [
    "m1 = tf.Variable(np.linspace(1,10,M).reshape(-1,1))\n",
    "S1 = tf.Variable(np.identity(M))"
   ]
  },
  {
   "cell_type": "code",
   "execution_count": 69,
   "metadata": {},
   "outputs": [],
   "source": [
    "def elbo(m1,S1):\n",
    "    \n",
    "    likelihood_GP = 0\n",
    "    inv_K_Z1Z1 = inv(  cholesky_with_jitter(K1(Z1,Z1),1e-10)@tf.transpose(cholesky_with_jitter(K1(Z1,Z1),1e-10)))\n",
    "    \n",
    "\n",
    "    for i in range (0,N):\n",
    "        f1_sample_mean = tf.linalg.matmul(tf.linalg.matmul(K1(X[i].reshape(-1,1),Z1),inv_K_Z1Z1),m1)\n",
    "        f1_sample_covariance = K1(X[i].reshape(-1,1),X[i].reshape(-1,1))-tf.linalg.matmul(tf.linalg.matmul(K1(X[i].reshape(-1,1),Z1),inv_K_Z1Z1),K1(Z1,X[i].reshape(-1,1)))+tf.linalg.matmul(tf.linalg.matmul(tf.linalg.matmul(tf.linalg.matmul(K1(X[i].reshape(-1,1),Z1),inv_K_Z1Z1),S1@tf.transpose(S1)),inv_K_Z1Z1),K1(Z1,X[i].reshape(-1,1)))\n",
    "        f1_sample = tf.math.reduce_mean(tfp.distributions.Normal(f1_sample_mean,f1_sample_covariance).sample(100))\n",
    "        \n",
    "        likelihood =tf.math.multiply(tf.cast(-1/2,tf.float64),tf.math.log(tf.math.multiply(tf.cast(2,tf.float64),tf.math.multiply(pi,tf.math.square(noise))))) - tf.math.divide(tf.math.square((Y[i]-f1_sample)),tf.math.square(noise))\n",
    "        likelihood_GP = likelihood_GP + likelihood\n",
    "      \n",
    "   \n",
    "    KL1 = tf.math.multiply(tf.cast(-1/2,tf.float64),(tf.linalg.trace(tf.linalg.matmul(inv_K_Z1Z1,S1@tf.transpose(S1)))+tf.linalg.matmul(tf.linalg.matmul(tf.transpose(m1),inv_K_Z1Z1),m1)-M+tf.math.log(tf.linalg.det(cholesky_with_jitter(K1(Z1,Z1),1e-5)))-tf.math.log(tf.linalg.det(S1@tf.transpose(S1)))))\n",
    "   \n",
    "    KL_GP = KL1\n",
    "    \n",
    "    elbo =  (likelihood_GP - KL_GP)\n",
    "\n",
    "\n",
    "\n",
    "    return elbo"
   ]
  },
  {
   "cell_type": "code",
   "execution_count": 70,
   "metadata": {},
   "outputs": [
    {
     "name": "stdout",
     "output_type": "stream",
     "text": [
      "0 objective: tf.Tensor([[1.02194073e+12]], shape=(1, 1), dtype=float64)\n",
      "1 objective: tf.Tensor([[2.49713195e+12]], shape=(1, 1), dtype=float64)\n",
      "2 objective: tf.Tensor([[6.00685107e+11]], shape=(1, 1), dtype=float64)\n",
      "3 objective: tf.Tensor([[8.06233542e+11]], shape=(1, 1), dtype=float64)\n",
      "4 objective: tf.Tensor([[1.12614426e+12]], shape=(1, 1), dtype=float64)\n",
      "5 objective: tf.Tensor([[8.51997827e+11]], shape=(1, 1), dtype=float64)\n",
      "6 objective: tf.Tensor([[5.50368326e+11]], shape=(1, 1), dtype=float64)\n",
      "7 objective: tf.Tensor([[5.14782709e+11]], shape=(1, 1), dtype=float64)\n",
      "8 objective: tf.Tensor([[6.06757345e+11]], shape=(1, 1), dtype=float64)\n",
      "9 objective: tf.Tensor([[5.83832107e+11]], shape=(1, 1), dtype=float64)\n",
      "10 objective: tf.Tensor([[4.28161363e+11]], shape=(1, 1), dtype=float64)\n",
      "11 objective: tf.Tensor([[2.87826695e+11]], shape=(1, 1), dtype=float64)\n",
      "12 objective: tf.Tensor([[2.51272534e+11]], shape=(1, 1), dtype=float64)\n",
      "13 objective: tf.Tensor([[2.84368352e+11]], shape=(1, 1), dtype=float64)\n",
      "14 objective: tf.Tensor([[2.98440131e+11]], shape=(1, 1), dtype=float64)\n",
      "15 objective: tf.Tensor([[2.52368397e+11]], shape=(1, 1), dtype=float64)\n",
      "16 objective: tf.Tensor([[1.85404369e+11]], shape=(1, 1), dtype=float64)\n",
      "17 objective: tf.Tensor([[1.53053011e+11]], shape=(1, 1), dtype=float64)\n",
      "18 objective: tf.Tensor([[1.65950203e+11]], shape=(1, 1), dtype=float64)\n",
      "19 objective: tf.Tensor([[1.89340175e+11]], shape=(1, 1), dtype=float64)\n",
      "20 objective: tf.Tensor([[1.84185973e+11]], shape=(1, 1), dtype=float64)\n",
      "21 objective: tf.Tensor([[1.44078318e+11]], shape=(1, 1), dtype=float64)\n",
      "22 objective: tf.Tensor([[9.58990785e+10]], shape=(1, 1), dtype=float64)\n",
      "23 objective: tf.Tensor([[7.08724999e+10]], shape=(1, 1), dtype=float64)\n",
      "24 objective: tf.Tensor([[7.5993276e+10]], shape=(1, 1), dtype=float64)\n",
      "25 objective: tf.Tensor([[9.14224004e+10]], shape=(1, 1), dtype=float64)\n",
      "26 objective: tf.Tensor([[9.26040763e+10]], shape=(1, 1), dtype=float64)\n",
      "27 objective: tf.Tensor([[7.45002051e+10]], shape=(1, 1), dtype=float64)\n",
      "28 objective: tf.Tensor([[5.36863716e+10]], shape=(1, 1), dtype=float64)\n",
      "29 objective: tf.Tensor([[4.65715553e+10]], shape=(1, 1), dtype=float64)\n",
      "30 objective: tf.Tensor([[5.24664447e+10]], shape=(1, 1), dtype=float64)\n",
      "31 objective: tf.Tensor([[5.80972273e+10]], shape=(1, 1), dtype=float64)\n",
      "32 objective: tf.Tensor([[5.28557059e+10]], shape=(1, 1), dtype=float64)\n",
      "33 objective: tf.Tensor([[3.85603349e+10]], shape=(1, 1), dtype=float64)\n",
      "34 objective: tf.Tensor([[2.63920502e+10]], shape=(1, 1), dtype=float64)\n",
      "35 objective: tf.Tensor([[2.38911792e+10]], shape=(1, 1), dtype=float64)\n",
      "36 objective: tf.Tensor([[2.75186003e+10]], shape=(1, 1), dtype=float64)\n",
      "37 objective: tf.Tensor([[2.90763229e+10]], shape=(1, 1), dtype=float64)\n",
      "38 objective: tf.Tensor([[2.53644597e+10]], shape=(1, 1), dtype=float64)\n",
      "39 objective: tf.Tensor([[2.01481605e+10]], shape=(1, 1), dtype=float64)\n",
      "40 objective: tf.Tensor([[1.79998231e+10]], shape=(1, 1), dtype=float64)\n",
      "41 objective: tf.Tensor([[1.84356531e+10]], shape=(1, 1), dtype=float64)\n",
      "42 objective: tf.Tensor([[1.78763569e+10]], shape=(1, 1), dtype=float64)\n",
      "43 objective: tf.Tensor([[1.50285129e+10]], shape=(1, 1), dtype=float64)\n",
      "44 objective: tf.Tensor([[1.17546022e+10]], shape=(1, 1), dtype=float64)\n",
      "45 objective: tf.Tensor([[1.00313321e+10]], shape=(1, 1), dtype=float64)\n",
      "46 objective: tf.Tensor([[9.95769144e+09]], shape=(1, 1), dtype=float64)\n",
      "47 objective: tf.Tensor([[1.00057354e+10]], shape=(1, 1), dtype=float64)\n",
      "48 objective: tf.Tensor([[9.12273862e+09]], shape=(1, 1), dtype=float64)\n",
      "49 objective: tf.Tensor([[7.80257665e+09]], shape=(1, 1), dtype=float64)\n",
      "50 objective: tf.Tensor([[7.04181028e+09]], shape=(1, 1), dtype=float64)\n",
      "51 objective: tf.Tensor([[6.90801693e+09]], shape=(1, 1), dtype=float64)\n",
      "52 objective: tf.Tensor([[6.5094875e+09]], shape=(1, 1), dtype=float64)\n",
      "53 objective: tf.Tensor([[5.36737033e+09]], shape=(1, 1), dtype=float64)\n",
      "54 objective: tf.Tensor([[4.16711212e+09]], shape=(1, 1), dtype=float64)\n",
      "55 objective: tf.Tensor([[3.74531937e+09]], shape=(1, 1), dtype=float64)\n",
      "56 objective: tf.Tensor([[3.97152827e+09]], shape=(1, 1), dtype=float64)\n",
      "57 objective: tf.Tensor([[3.98491817e+09]], shape=(1, 1), dtype=float64)\n",
      "58 objective: tf.Tensor([[3.46987313e+09]], shape=(1, 1), dtype=float64)\n",
      "59 objective: tf.Tensor([[2.84333845e+09]], shape=(1, 1), dtype=float64)\n",
      "60 objective: tf.Tensor([[2.54826604e+09]], shape=(1, 1), dtype=float64)\n",
      "61 objective: tf.Tensor([[2.52599132e+09]], shape=(1, 1), dtype=float64)\n",
      "62 objective: tf.Tensor([[2.40691495e+09]], shape=(1, 1), dtype=float64)\n",
      "63 objective: tf.Tensor([[2.04461751e+09]], shape=(1, 1), dtype=float64)\n",
      "64 objective: tf.Tensor([[1.6270285e+09]], shape=(1, 1), dtype=float64)\n",
      "65 objective: tf.Tensor([[1.41633825e+09]], shape=(1, 1), dtype=float64)\n",
      "66 objective: tf.Tensor([[1.43913047e+09]], shape=(1, 1), dtype=float64)\n",
      "67 objective: tf.Tensor([[1.48890867e+09]], shape=(1, 1), dtype=float64)\n",
      "68 objective: tf.Tensor([[1.38718316e+09]], shape=(1, 1), dtype=float64)\n",
      "69 objective: tf.Tensor([[1.15730668e+09]], shape=(1, 1), dtype=float64)\n",
      "70 objective: tf.Tensor([[9.64555811e+08]], shape=(1, 1), dtype=float64)\n",
      "71 objective: tf.Tensor([[9.12091868e+08]], shape=(1, 1), dtype=float64)\n",
      "72 objective: tf.Tensor([[9.03730094e+08]], shape=(1, 1), dtype=float64)\n",
      "73 objective: tf.Tensor([[8.00853564e+08]], shape=(1, 1), dtype=float64)\n",
      "74 objective: tf.Tensor([[6.50899221e+08]], shape=(1, 1), dtype=float64)\n",
      "75 objective: tf.Tensor([[5.86867464e+08]], shape=(1, 1), dtype=float64)\n",
      "76 objective: tf.Tensor([[6.19493503e+08]], shape=(1, 1), dtype=float64)\n",
      "77 objective: tf.Tensor([[6.31852478e+08]], shape=(1, 1), dtype=float64)\n",
      "78 objective: tf.Tensor([[5.4493721e+08]], shape=(1, 1), dtype=float64)\n",
      "79 objective: tf.Tensor([[4.21107601e+08]], shape=(1, 1), dtype=float64)\n",
      "80 objective: tf.Tensor([[3.68285204e+08]], shape=(1, 1), dtype=float64)\n",
      "81 objective: tf.Tensor([[3.62923639e+08]], shape=(1, 1), dtype=float64)\n",
      "82 objective: tf.Tensor([[3.32207217e+08]], shape=(1, 1), dtype=float64)\n",
      "83 objective: tf.Tensor([[3.04318385e+08]], shape=(1, 1), dtype=float64)\n",
      "84 objective: tf.Tensor([[3.17311784e+08]], shape=(1, 1), dtype=float64)\n",
      "85 objective: tf.Tensor([[3.2669584e+08]], shape=(1, 1), dtype=float64)\n",
      "86 objective: tf.Tensor([[3.39774796e+08]], shape=(1, 1), dtype=float64)\n",
      "87 objective: tf.Tensor([[3.95835796e+08]], shape=(1, 1), dtype=float64)\n",
      "88 objective: tf.Tensor([[3.4331235e+08]], shape=(1, 1), dtype=float64)\n",
      "89 objective: tf.Tensor([[1.93278382e+08]], shape=(1, 1), dtype=float64)\n",
      "90 objective: tf.Tensor([[2.32823222e+08]], shape=(1, 1), dtype=float64)\n",
      "91 objective: tf.Tensor([[2.78032389e+08]], shape=(1, 1), dtype=float64)\n",
      "92 objective: tf.Tensor([[1.94012696e+08]], shape=(1, 1), dtype=float64)\n",
      "93 objective: tf.Tensor([[2.74126693e+08]], shape=(1, 1), dtype=float64)\n",
      "94 objective: tf.Tensor([[3.29930236e+08]], shape=(1, 1), dtype=float64)\n",
      "95 objective: tf.Tensor([[1.96334122e+08]], shape=(1, 1), dtype=float64)\n",
      "96 objective: tf.Tensor([[1.77895938e+08]], shape=(1, 1), dtype=float64)\n",
      "97 objective: tf.Tensor([[2.34875376e+08]], shape=(1, 1), dtype=float64)\n",
      "98 objective: tf.Tensor([[2.84008297e+08]], shape=(1, 1), dtype=float64)\n",
      "99 objective: tf.Tensor([[2.85664137e+08]], shape=(1, 1), dtype=float64)\n"
     ]
    }
   ],
   "source": [
    "optimizer = tf.keras.optimizers.Adam(learning_rate = 1)\n",
    "for i in range(100):\n",
    "    with tf.GradientTape() as tape:\n",
    "        objective = elbo(m1,S1)\n",
    "        gradients = tape.gradient(objective, [m1,S1])\n",
    "    print(i, \"objective:\", objective)\n",
    "    optimizer.apply_gradients(zip(gradients, [m1,S1]))"
   ]
  },
  {
   "cell_type": "code",
   "execution_count": 71,
   "metadata": {},
   "outputs": [
    {
     "name": "stderr",
     "output_type": "stream",
     "text": [
      "/opt/anaconda3/envs/tensorflow/lib/python3.7/site-packages/ipykernel_launcher.py:4: RuntimeWarning: covariance is not positive-semidefinite.\n",
      "  after removing the cwd from sys.path.\n"
     ]
    }
   ],
   "source": [
    "inv_K_Z1Z1 = inv(  cholesky_with_jitter(K1(Z1,Z1),1e-10)@tf.transpose(cholesky_with_jitter(K1(Z1,Z1),1e-10)))\n",
    "f1_sample_mean = np.matmul(np.matmul(K1(Xs,Z1),inv_K_Z1Z1),m1)\n",
    "f1_sample_covariance = K1(Xs,Xs)-np.matmul(np.matmul(K1(Xs,Z1),inv_K_Z1Z1),K1(Z1,Xs))+np.matmul(np.matmul(np.matmul(np.matmul(K1(Xs,Z1),inv_K_Z1Z1),S1@tf.transpose(S1)),inv_K_Z1Z1),K1(Z1,Xs))\n",
    "f1_samples = np.random.multivariate_normal(f1_sample_mean.reshape(100,), f1_sample_covariance, 10)\n",
    "\n"
   ]
  },
  {
   "cell_type": "code",
   "execution_count": 73,
   "metadata": {},
   "outputs": [
    {
     "data": {
      "text/plain": [
       "[<matplotlib.lines.Line2D at 0x7fbaabf12a90>,\n",
       " <matplotlib.lines.Line2D at 0x7fbaabd6edd0>,\n",
       " <matplotlib.lines.Line2D at 0x7fbaaba2fd90>,\n",
       " <matplotlib.lines.Line2D at 0x7fbaabf60650>,\n",
       " <matplotlib.lines.Line2D at 0x7fbaababa3d0>,\n",
       " <matplotlib.lines.Line2D at 0x7fbaabfe8990>,\n",
       " <matplotlib.lines.Line2D at 0x7fbaab41c4d0>,\n",
       " <matplotlib.lines.Line2D at 0x7fbaabdcc110>,\n",
       " <matplotlib.lines.Line2D at 0x7fbaababa5d0>,\n",
       " <matplotlib.lines.Line2D at 0x7fbaabfe81d0>]"
      ]
     },
     "execution_count": 73,
     "metadata": {},
     "output_type": "execute_result"
    },
    {
     "data": {
      "image/png": "[encoded data removed]",
      "text/plain": [
       "<Figure size 432x288 with 1 Axes>"
      ]
     },
     "metadata": {
      "needs_background": "light"
     },
     "output_type": "display_data"
    }
   ],
   "source": [
    "fig = plt.figure()\n",
    "ax = plt.axes()\n",
    "ax.plot(Xs,f1_samples.T)"
   ]
  },
  {
   "cell_type": "code",
   "execution_count": null,
   "metadata": {},
   "outputs": [],
   "source": []
  }
 ],
 "metadata": {
  "kernelspec": {
   "display_name": "Python 3",
   "language": "python",
   "name": "python3"
  },
  "language_info": {
   "codemirror_mode": {
    "name": "ipython",
    "version": 3
   },
   "file_extension": ".py",
   "mimetype": "text/x-python",
   "name": "python",
   "nbconvert_exporter": "python",
   "pygments_lexer": "ipython3",
   "version": "3.7.6"
  }
 },
 "nbformat": 4,
 "nbformat_minor": 4
}
