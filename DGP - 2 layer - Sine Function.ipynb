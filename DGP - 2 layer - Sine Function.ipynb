{
 "cells": [
  {
   "cell_type": "code",
   "execution_count": 43,
   "metadata": {},
   "outputs": [],
   "source": [
    "import numpy as np\n",
    "import matplotlib.pyplot as plt\n",
    "\n",
    "from scipy.spatial.distance import cdist\n",
    "\n",
    "from numpy.linalg import inv\n",
    "from numpy.linalg import det\n",
    "from numpy.linalg import eig\n",
    "\n",
    "import tensorflow as tf\n",
    "import tensorflow_probability as tfp\n",
    "\n",
    "import gpflow\n",
    "\n"
   ]
  },
  {
   "cell_type": "code",
   "execution_count": 44,
   "metadata": {},
   "outputs": [],
   "source": [
    "def cholesky_with_jitter(K, jitter):\n",
    "    k_diag = tf.linalg.diag_part(K)\n",
    "    jitter_diag = tf.fill(tf.shape(k_diag), tf.cast(jitter, dtype=K.dtype))\n",
    "    jittered_K = tf.linalg.set_diag(K, k_diag + jitter_diag)\n",
    "    return tf.linalg.cholesky(jittered_K)\n",
    "\n",
    "K1 = gpflow.kernels.SquaredExponential(variance=1, lengthscales=5)\n",
    "K2 = gpflow.kernels.SquaredExponential(variance=1, lengthscales=10)\n",
    "\n",
    "pi = tf.cast(np.pi, tf.float64)\n",
    "\n",
    "noise = tf.cast(1, tf.float64)"
   ]
  },
  {
   "cell_type": "code",
   "execution_count": 45,
   "metadata": {},
   "outputs": [],
   "source": [
    "N = 100\n",
    "M = 30"
   ]
  },
  {
   "cell_type": "code",
   "execution_count": 46,
   "metadata": {},
   "outputs": [],
   "source": [
    "Xs = np.linspace(1, 10, 100).reshape(-1,1)\n",
    "X = np.random.uniform(1, 10, N).reshape(-1,1)\n",
    "Y = 10*tf.math.sin((X))\n",
    "\n",
    "Z1 = X[0:M]\n",
    "Z2 = X[0:M]"
   ]
  },
  {
   "cell_type": "code",
   "execution_count": 47,
   "metadata": {},
   "outputs": [],
   "source": [
    "m1 = tf.Variable(np.zeros(M).reshape(-1,1))\n",
    "S1 = tf.Variable(np.identity(M))\n",
    "m2 = tf.Variable(np.zeros(M).reshape(-1,1))\n",
    "S2 = tf.Variable(np.identity(M))"
   ]
  },
  {
   "cell_type": "code",
   "execution_count": 48,
   "metadata": {},
   "outputs": [],
   "source": [
    "def elbo(m1,S1,m2,S2):\n",
    "    \n",
    "    inv_K_Z1Z1 = inv(  cholesky_with_jitter(K1(Z1,Z1),1e-10)@tf.transpose(cholesky_with_jitter(K1(Z1,Z1),1e-10)))\n",
    "    f1_sample_list = []\n",
    "\n",
    "    for i in range (0,N):\n",
    "        f1_sample_mean = tf.linalg.matmul(tf.linalg.matmul(K1(X[i].reshape(-1,1),Z1),inv_K_Z1Z1),m1)\n",
    "        f1_sample_covariance = K1(X[i].reshape(-1,1),X[i].reshape(-1,1))-tf.linalg.matmul(tf.linalg.matmul(K1(X[i].reshape(-1,1),Z1),inv_K_Z1Z1),K1(Z1,X[i].reshape(-1,1)))+tf.linalg.matmul(tf.linalg.matmul(tf.linalg.matmul(tf.linalg.matmul(K1(X[i].reshape(-1,1),Z1),inv_K_Z1Z1),S1@tf.transpose(S1)),inv_K_Z1Z1),K1(Z1,X[i].reshape(-1,1)))\n",
    "        f1_sample = tf.math.reduce_mean(tfp.distributions.Normal(f1_sample_mean,f1_sample_covariance).sample(100))\n",
    "        f1_sample_list.append(f1_sample)\n",
    "    \n",
    "    \n",
    "    f1_sample_list = np.array(f1_sample_list).reshape(-1,1)\n",
    "   \n",
    "    inv_K_Z2Z2 = inv(  cholesky_with_jitter(K2(Z2,Z2),1e-10)@tf.transpose(cholesky_with_jitter(K2(Z2,Z2),1e-10)))\n",
    "\n",
    "\n",
    "    \n",
    "    likelihood_GP = tf.cast(0,tf.float64)\n",
    "        \n",
    "    for i in range (0,N):\n",
    "        \n",
    "        f2_sample_mean = tf.linalg.matmul(tf.linalg.matmul(K2(f1_sample_list[i].reshape(-1,1),Z2),inv_K_Z2Z2),m2)\n",
    "        f2_sample_covariance = K2(f1_sample_list[i].reshape(-1,1),f1_sample_list[i].reshape(-1,1))-tf.linalg.matmul(tf.linalg.matmul(K2(f1_sample_list[i].reshape(-1,1),Z2),inv_K_Z2Z2),K2(Z2,f1_sample_list[i].reshape(-1,1)))+tf.linalg.matmul(tf.linalg.matmul(tf.linalg.matmul(tf.linalg.matmul(K2(f1_sample_list[i].reshape(-1,1),Z2),inv_K_Z2Z2),S2@tf.transpose(S2)),inv_K_Z2Z2),K2(Z2,f1_sample_list[i].reshape(-1,1)))\n",
    "        f2_sample = tf.math.reduce_mean(tfp.distributions.Normal(f2_sample_mean,f2_sample_covariance).sample(100))\n",
    "        \n",
    "        likelihood =tf.math.multiply(tf.cast(-1/2,tf.float64),tf.math.log(tf.math.multiply(tf.cast(2,tf.float64),tf.math.multiply(pi,tf.math.square(noise))))) - tf.math.divide(tf.math.square((Y[i]-f2_sample)),tf.math.square(noise))\n",
    "        likelihood_GP = likelihood_GP + likelihood\n",
    "      \n",
    "   \n",
    "    KL1 = tf.math.multiply(tf.cast(-1/2,tf.float64),(tf.linalg.trace(tf.linalg.matmul(inv_K_Z1Z1,S1@tf.transpose(S1)))+tf.linalg.matmul(tf.linalg.matmul(tf.transpose(m1),inv_K_Z1Z1),m1)-M+tf.math.log(tf.linalg.det(cholesky_with_jitter(K1(Z1,Z1),1e-5)))-tf.math.log(tf.linalg.det(S1@tf.transpose(S1)))))\n",
    "    KL2 = tf.math.multiply(tf.cast(-1/2,tf.float64),(tf.linalg.trace(tf.linalg.matmul(inv_K_Z2Z2,S2@tf.transpose(S2)))+tf.linalg.matmul(tf.linalg.matmul(tf.transpose(m2),inv_K_Z2Z2),m2)-M+tf.math.log(tf.linalg.det(cholesky_with_jitter(K2(Z2,Z2),1e-5)))-tf.math.log(tf.linalg.det(S2@tf.transpose(S2)))))\n",
    "    \n",
    "    KL_GP = KL1+KL2\n",
    "    \n",
    "    elbo = (likelihood_GP - KL_GP)\n",
    "\n",
    "\n",
    "\n",
    "    return elbo"
   ]
  },
  {
   "cell_type": "code",
   "execution_count": 49,
   "metadata": {},
   "outputs": [
    {
     "name": "stdout",
     "output_type": "stream",
     "text": [
      "0 objective: tf.Tensor([[2.19401211e+11]], shape=(1, 1), dtype=float64)\n",
      "1 objective: tf.Tensor([[nan]], shape=(1, 1), dtype=float64)\n",
      "2 objective: tf.Tensor([[3.7805258e+11]], shape=(1, 1), dtype=float64)\n",
      "3 objective: tf.Tensor([[6.83924375e+11]], shape=(1, 1), dtype=float64)\n",
      "4 objective: tf.Tensor([[8.46183836e+11]], shape=(1, 1), dtype=float64)\n",
      "5 objective: tf.Tensor([[8.04118665e+11]], shape=(1, 1), dtype=float64)\n",
      "6 objective: tf.Tensor([[7.98293033e+11]], shape=(1, 1), dtype=float64)\n",
      "7 objective: tf.Tensor([[8.89563279e+11]], shape=(1, 1), dtype=float64)\n",
      "8 objective: tf.Tensor([[9.73920808e+11]], shape=(1, 1), dtype=float64)\n",
      "9 objective: tf.Tensor([[9.65234195e+11]], shape=(1, 1), dtype=float64)\n",
      "10 objective: tf.Tensor([[8.83084211e+11]], shape=(1, 1), dtype=float64)\n",
      "11 objective: tf.Tensor([[-7.06630306e+13]], shape=(1, 1), dtype=float64)\n",
      "12 objective: tf.Tensor([[5.83846013e+11]], shape=(1, 1), dtype=float64)\n",
      "13 objective: tf.Tensor([[-5.40647998e+11]], shape=(1, 1), dtype=float64)\n",
      "14 objective: tf.Tensor([[1.22942867e+12]], shape=(1, 1), dtype=float64)\n",
      "15 objective: tf.Tensor([[1.45842158e+12]], shape=(1, 1), dtype=float64)\n",
      "16 objective: tf.Tensor([[-7.30972196e+14]], shape=(1, 1), dtype=float64)\n",
      "17 objective: tf.Tensor([[-6.10704194e+13]], shape=(1, 1), dtype=float64)\n",
      "18 objective: tf.Tensor([[-3.06220275e+11]], shape=(1, 1), dtype=float64)\n",
      "19 objective: tf.Tensor([[-7.28901441e+17]], shape=(1, 1), dtype=float64)\n",
      "20 objective: tf.Tensor([[-1.89083728e+15]], shape=(1, 1), dtype=float64)\n",
      "21 objective: tf.Tensor([[-2.11281456e+21]], shape=(1, 1), dtype=float64)\n",
      "22 objective: tf.Tensor([[-1.61495511e+20]], shape=(1, 1), dtype=float64)\n",
      "23 objective: tf.Tensor([[-1.37864507e+22]], shape=(1, 1), dtype=float64)\n",
      "24 objective: tf.Tensor([[-6.35089879e+20]], shape=(1, 1), dtype=float64)\n",
      "25 objective: tf.Tensor([[-9.12717083e+18]], shape=(1, 1), dtype=float64)\n",
      "26 objective: tf.Tensor([[-8.81015353e+21]], shape=(1, 1), dtype=float64)\n",
      "27 objective: tf.Tensor([[-1.3349803e+21]], shape=(1, 1), dtype=float64)\n",
      "28 objective: tf.Tensor([[-5.49360785e+20]], shape=(1, 1), dtype=float64)\n",
      "29 objective: tf.Tensor([[-4.65925225e+22]], shape=(1, 1), dtype=float64)\n",
      "30 objective: tf.Tensor([[-1.41204319e+21]], shape=(1, 1), dtype=float64)\n",
      "31 objective: tf.Tensor([[-1.20990998e+22]], shape=(1, 1), dtype=float64)\n",
      "32 objective: tf.Tensor([[-2.08627621e+22]], shape=(1, 1), dtype=float64)\n",
      "33 objective: tf.Tensor([[-2.72948594e+21]], shape=(1, 1), dtype=float64)\n",
      "34 objective: tf.Tensor([[-8.75624292e+23]], shape=(1, 1), dtype=float64)\n",
      "35 objective: tf.Tensor([[-5.62155275e+22]], shape=(1, 1), dtype=float64)\n",
      "36 objective: tf.Tensor([[-1.73311157e+23]], shape=(1, 1), dtype=float64)\n",
      "37 objective: tf.Tensor([[-1.57408208e+23]], shape=(1, 1), dtype=float64)\n",
      "38 objective: tf.Tensor([[-4.17995576e+23]], shape=(1, 1), dtype=float64)\n",
      "39 objective: tf.Tensor([[-8.60333316e+23]], shape=(1, 1), dtype=float64)\n",
      "40 objective: tf.Tensor([[-9.22375674e+23]], shape=(1, 1), dtype=float64)\n",
      "41 objective: tf.Tensor([[-2.10315816e+24]], shape=(1, 1), dtype=float64)\n",
      "42 objective: tf.Tensor([[-3.72132845e+24]], shape=(1, 1), dtype=float64)\n",
      "43 objective: tf.Tensor([[-3.56400426e+24]], shape=(1, 1), dtype=float64)\n",
      "44 objective: tf.Tensor([[-1.33774022e+24]], shape=(1, 1), dtype=float64)\n",
      "45 objective: tf.Tensor([[-4.86881248e+24]], shape=(1, 1), dtype=float64)\n",
      "46 objective: tf.Tensor([[-2.97499601e+23]], shape=(1, 1), dtype=float64)\n",
      "47 objective: tf.Tensor([[-8.80397033e+23]], shape=(1, 1), dtype=float64)\n",
      "48 objective: tf.Tensor([[-6.55898138e+24]], shape=(1, 1), dtype=float64)\n",
      "49 objective: tf.Tensor([[-1.81276258e+24]], shape=(1, 1), dtype=float64)\n",
      "50 objective: tf.Tensor([[-1.04805312e+25]], shape=(1, 1), dtype=float64)\n",
      "51 objective: tf.Tensor([[-2.30275293e+23]], shape=(1, 1), dtype=float64)\n",
      "52 objective: tf.Tensor([[-2.88443538e+24]], shape=(1, 1), dtype=float64)\n",
      "53 objective: tf.Tensor([[-1.62150445e+25]], shape=(1, 1), dtype=float64)\n",
      "54 objective: tf.Tensor([[-6.8447243e+24]], shape=(1, 1), dtype=float64)\n",
      "55 objective: tf.Tensor([[-9.70030411e+22]], shape=(1, 1), dtype=float64)\n",
      "56 objective: tf.Tensor([[-3.18272022e+25]], shape=(1, 1), dtype=float64)\n",
      "57 objective: tf.Tensor([[-8.68478957e+23]], shape=(1, 1), dtype=float64)\n",
      "58 objective: tf.Tensor([[-6.42883272e+23]], shape=(1, 1), dtype=float64)\n",
      "59 objective: tf.Tensor([[-6.66812175e+24]], shape=(1, 1), dtype=float64)\n",
      "60 objective: tf.Tensor([[-4.87316298e+25]], shape=(1, 1), dtype=float64)\n",
      "61 objective: tf.Tensor([[-1.34902791e+25]], shape=(1, 1), dtype=float64)\n",
      "62 objective: tf.Tensor([[-1.46221485e+25]], shape=(1, 1), dtype=float64)\n",
      "63 objective: tf.Tensor([[-6.59487813e+24]], shape=(1, 1), dtype=float64)\n",
      "64 objective: tf.Tensor([[-8.25357486e+23]], shape=(1, 1), dtype=float64)\n",
      "65 objective: tf.Tensor([[-4.35645993e+24]], shape=(1, 1), dtype=float64)\n",
      "66 objective: tf.Tensor([[-1.10141375e+25]], shape=(1, 1), dtype=float64)\n",
      "67 objective: tf.Tensor([[-1.98768938e+22]], shape=(1, 1), dtype=float64)\n",
      "68 objective: tf.Tensor([[-4.12276382e+25]], shape=(1, 1), dtype=float64)\n",
      "69 objective: tf.Tensor([[-3.68321499e+24]], shape=(1, 1), dtype=float64)\n",
      "70 objective: tf.Tensor([[-2.20398644e+23]], shape=(1, 1), dtype=float64)\n",
      "71 objective: tf.Tensor([[-3.08208575e+24]], shape=(1, 1), dtype=float64)\n",
      "72 objective: tf.Tensor([[-1.81450285e+23]], shape=(1, 1), dtype=float64)\n",
      "73 objective: tf.Tensor([[-5.89823899e+23]], shape=(1, 1), dtype=float64)\n",
      "74 objective: tf.Tensor([[-1.37799793e+26]], shape=(1, 1), dtype=float64)\n",
      "75 objective: tf.Tensor([[-6.02418257e+22]], shape=(1, 1), dtype=float64)\n",
      "76 objective: tf.Tensor([[-6.63172196e+23]], shape=(1, 1), dtype=float64)\n",
      "77 objective: tf.Tensor([[-1.25625031e+26]], shape=(1, 1), dtype=float64)\n",
      "78 objective: tf.Tensor([[-4.26192671e+23]], shape=(1, 1), dtype=float64)\n",
      "79 objective: tf.Tensor([[-2.96992539e+25]], shape=(1, 1), dtype=float64)\n",
      "80 objective: tf.Tensor([[-4.78668313e+22]], shape=(1, 1), dtype=float64)\n",
      "81 objective: tf.Tensor([[-1.06049846e+26]], shape=(1, 1), dtype=float64)\n",
      "82 objective: tf.Tensor([[-2.19687605e+26]], shape=(1, 1), dtype=float64)\n",
      "83 objective: tf.Tensor([[-4.81764801e+24]], shape=(1, 1), dtype=float64)\n",
      "84 objective: tf.Tensor([[-2.75798286e+25]], shape=(1, 1), dtype=float64)\n",
      "85 objective: tf.Tensor([[-7.26023399e+23]], shape=(1, 1), dtype=float64)\n",
      "86 objective: tf.Tensor([[-2.45585257e+23]], shape=(1, 1), dtype=float64)\n",
      "87 objective: tf.Tensor([[-1.19832146e+22]], shape=(1, 1), dtype=float64)\n",
      "88 objective: tf.Tensor([[-9.45163364e+23]], shape=(1, 1), dtype=float64)\n",
      "89 objective: tf.Tensor([[-2.07240313e+21]], shape=(1, 1), dtype=float64)\n",
      "90 objective: tf.Tensor([[-6.79205813e+20]], shape=(1, 1), dtype=float64)\n",
      "91 objective: tf.Tensor([[-1.73488157e+25]], shape=(1, 1), dtype=float64)\n",
      "92 objective: tf.Tensor([[-8.69498532e+22]], shape=(1, 1), dtype=float64)\n",
      "93 objective: tf.Tensor([[-4.0921636e+25]], shape=(1, 1), dtype=float64)\n",
      "94 objective: tf.Tensor([[-9.90828075e+21]], shape=(1, 1), dtype=float64)\n",
      "95 objective: tf.Tensor([[-3.36589474e+24]], shape=(1, 1), dtype=float64)\n",
      "96 objective: tf.Tensor([[-3.92155884e+25]], shape=(1, 1), dtype=float64)\n",
      "97 objective: tf.Tensor([[-1.57280668e+21]], shape=(1, 1), dtype=float64)\n",
      "98 objective: tf.Tensor([[-6.16826863e+22]], shape=(1, 1), dtype=float64)\n",
      "99 objective: tf.Tensor([[-1.60458499e+22]], shape=(1, 1), dtype=float64)\n",
      "100 objective: tf.Tensor([[-1.12589026e+26]], shape=(1, 1), dtype=float64)\n",
      "101 objective: tf.Tensor([[-1.47734484e+26]], shape=(1, 1), dtype=float64)\n",
      "102 objective: tf.Tensor([[-8.86799994e+25]], shape=(1, 1), dtype=float64)\n",
      "103 objective: tf.Tensor([[-1.59960659e+24]], shape=(1, 1), dtype=float64)\n",
      "104 objective: tf.Tensor([[-2.21468127e+25]], shape=(1, 1), dtype=float64)\n",
      "105 objective: tf.Tensor([[-1.36436309e+24]], shape=(1, 1), dtype=float64)\n",
      "106 objective: tf.Tensor([[-1.15987725e+24]], shape=(1, 1), dtype=float64)\n",
      "107 objective: tf.Tensor([[-6.42304994e+22]], shape=(1, 1), dtype=float64)\n",
      "108 objective: tf.Tensor([[-4.85914352e+25]], shape=(1, 1), dtype=float64)\n",
      "109 objective: tf.Tensor([[-3.20831461e+22]], shape=(1, 1), dtype=float64)\n",
      "110 objective: tf.Tensor([[-8.30515163e+22]], shape=(1, 1), dtype=float64)\n",
      "111 objective: tf.Tensor([[-4.80762248e+19]], shape=(1, 1), dtype=float64)\n"
     ]
    },
    {
     "name": "stdout",
     "output_type": "stream",
     "text": [
      "112 objective: tf.Tensor([[-4.2997065e+23]], shape=(1, 1), dtype=float64)\n",
      "113 objective: tf.Tensor([[-4.3360572e+24]], shape=(1, 1), dtype=float64)\n",
      "114 objective: tf.Tensor([[-2.43581902e+26]], shape=(1, 1), dtype=float64)\n",
      "115 objective: tf.Tensor([[-2.07966022e+20]], shape=(1, 1), dtype=float64)\n",
      "116 objective: tf.Tensor([[-1.00395513e+24]], shape=(1, 1), dtype=float64)\n",
      "117 objective: tf.Tensor([[-2.63031445e+23]], shape=(1, 1), dtype=float64)\n",
      "118 objective: tf.Tensor([[-8.343465e+22]], shape=(1, 1), dtype=float64)\n",
      "119 objective: tf.Tensor([[-7.90512333e+24]], shape=(1, 1), dtype=float64)\n",
      "120 objective: tf.Tensor([[-8.73881505e+21]], shape=(1, 1), dtype=float64)\n",
      "121 objective: tf.Tensor([[-4.18529387e+24]], shape=(1, 1), dtype=float64)\n",
      "122 objective: tf.Tensor([[-1.74780713e+26]], shape=(1, 1), dtype=float64)\n",
      "123 objective: tf.Tensor([[-1.34424422e+22]], shape=(1, 1), dtype=float64)\n",
      "124 objective: tf.Tensor([[-4.73521593e+24]], shape=(1, 1), dtype=float64)\n",
      "125 objective: tf.Tensor([[-2.04243931e+26]], shape=(1, 1), dtype=float64)\n",
      "126 objective: tf.Tensor([[-1.18029822e+24]], shape=(1, 1), dtype=float64)\n",
      "127 objective: tf.Tensor([[-1.81135784e+27]], shape=(1, 1), dtype=float64)\n",
      "128 objective: tf.Tensor([[-2.27494097e+24]], shape=(1, 1), dtype=float64)\n",
      "129 objective: tf.Tensor([[-9.4378887e+22]], shape=(1, 1), dtype=float64)\n",
      "130 objective: tf.Tensor([[-9.57895438e+22]], shape=(1, 1), dtype=float64)\n",
      "131 objective: tf.Tensor([[-1.12111632e+24]], shape=(1, 1), dtype=float64)\n",
      "132 objective: tf.Tensor([[-1.33977973e+21]], shape=(1, 1), dtype=float64)\n",
      "133 objective: tf.Tensor([[-2.5118745e+23]], shape=(1, 1), dtype=float64)\n",
      "134 objective: tf.Tensor([[-3.36026544e+25]], shape=(1, 1), dtype=float64)\n",
      "135 objective: tf.Tensor([[-3.02154243e+24]], shape=(1, 1), dtype=float64)\n",
      "136 objective: tf.Tensor([[-1.81623544e+25]], shape=(1, 1), dtype=float64)\n",
      "137 objective: tf.Tensor([[-2.11616938e+26]], shape=(1, 1), dtype=float64)\n",
      "138 objective: tf.Tensor([[-5.10459997e+23]], shape=(1, 1), dtype=float64)\n",
      "139 objective: tf.Tensor([[-9.09508281e+23]], shape=(1, 1), dtype=float64)\n",
      "140 objective: tf.Tensor([[-1.45853176e+22]], shape=(1, 1), dtype=float64)\n",
      "141 objective: tf.Tensor([[-1.43395211e+25]], shape=(1, 1), dtype=float64)\n",
      "142 objective: tf.Tensor([[-7.89271734e+25]], shape=(1, 1), dtype=float64)\n",
      "143 objective: tf.Tensor([[-2.03952058e+22]], shape=(1, 1), dtype=float64)\n",
      "144 objective: tf.Tensor([[-2.23717193e+24]], shape=(1, 1), dtype=float64)\n",
      "145 objective: tf.Tensor([[-1.30123489e+24]], shape=(1, 1), dtype=float64)\n",
      "146 objective: tf.Tensor([[-2.40182216e+24]], shape=(1, 1), dtype=float64)\n",
      "147 objective: tf.Tensor([[-2.88533772e+24]], shape=(1, 1), dtype=float64)\n",
      "148 objective: tf.Tensor([[-3.11754401e+25]], shape=(1, 1), dtype=float64)\n",
      "149 objective: tf.Tensor([[-4.04291836e+24]], shape=(1, 1), dtype=float64)\n",
      "150 objective: tf.Tensor([[-5.77150796e+22]], shape=(1, 1), dtype=float64)\n",
      "151 objective: tf.Tensor([[-1.18717081e+26]], shape=(1, 1), dtype=float64)\n",
      "152 objective: tf.Tensor([[-3.9662624e+20]], shape=(1, 1), dtype=float64)\n",
      "153 objective: tf.Tensor([[-3.92311393e+24]], shape=(1, 1), dtype=float64)\n",
      "154 objective: tf.Tensor([[-8.7408158e+20]], shape=(1, 1), dtype=float64)\n",
      "155 objective: tf.Tensor([[-6.10087215e+24]], shape=(1, 1), dtype=float64)\n",
      "156 objective: tf.Tensor([[-4.29937379e+24]], shape=(1, 1), dtype=float64)\n",
      "157 objective: tf.Tensor([[-1.17847282e+26]], shape=(1, 1), dtype=float64)\n",
      "158 objective: tf.Tensor([[-2.37934095e+22]], shape=(1, 1), dtype=float64)\n",
      "159 objective: tf.Tensor([[-1.91661303e+24]], shape=(1, 1), dtype=float64)\n",
      "160 objective: tf.Tensor([[-2.2333851e+20]], shape=(1, 1), dtype=float64)\n",
      "161 objective: tf.Tensor([[-1.58796596e+26]], shape=(1, 1), dtype=float64)\n",
      "162 objective: tf.Tensor([[-1.66423564e+25]], shape=(1, 1), dtype=float64)\n",
      "163 objective: tf.Tensor([[-5.34400921e+24]], shape=(1, 1), dtype=float64)\n",
      "164 objective: tf.Tensor([[-3.85860496e+27]], shape=(1, 1), dtype=float64)\n",
      "165 objective: tf.Tensor([[-4.61254157e+23]], shape=(1, 1), dtype=float64)\n",
      "166 objective: tf.Tensor([[-6.92678261e+23]], shape=(1, 1), dtype=float64)\n",
      "167 objective: tf.Tensor([[-2.68032389e+25]], shape=(1, 1), dtype=float64)\n",
      "168 objective: tf.Tensor([[-2.45429509e+25]], shape=(1, 1), dtype=float64)\n",
      "169 objective: tf.Tensor([[-5.66958238e+25]], shape=(1, 1), dtype=float64)\n",
      "170 objective: tf.Tensor([[-3.04834104e+25]], shape=(1, 1), dtype=float64)\n",
      "171 objective: tf.Tensor([[-2.8420521e+26]], shape=(1, 1), dtype=float64)\n",
      "172 objective: tf.Tensor([[-2.18072659e+24]], shape=(1, 1), dtype=float64)\n",
      "173 objective: tf.Tensor([[-3.1472503e+23]], shape=(1, 1), dtype=float64)\n",
      "174 objective: tf.Tensor([[-5.67351128e+24]], shape=(1, 1), dtype=float64)\n",
      "175 objective: tf.Tensor([[-6.96868055e+21]], shape=(1, 1), dtype=float64)\n",
      "176 objective: tf.Tensor([[-1.10705248e+22]], shape=(1, 1), dtype=float64)\n",
      "177 objective: tf.Tensor([[-3.78728748e+26]], shape=(1, 1), dtype=float64)\n",
      "178 objective: tf.Tensor([[-3.59899741e+24]], shape=(1, 1), dtype=float64)\n",
      "179 objective: tf.Tensor([[-2.58823722e+20]], shape=(1, 1), dtype=float64)\n",
      "180 objective: tf.Tensor([[-3.03710196e+24]], shape=(1, 1), dtype=float64)\n",
      "181 objective: tf.Tensor([[-4.91609032e+22]], shape=(1, 1), dtype=float64)\n",
      "182 objective: tf.Tensor([[-1.1960568e+27]], shape=(1, 1), dtype=float64)\n",
      "183 objective: tf.Tensor([[-2.79983263e+21]], shape=(1, 1), dtype=float64)\n",
      "184 objective: tf.Tensor([[-1.66777514e+22]], shape=(1, 1), dtype=float64)\n",
      "185 objective: tf.Tensor([[-1.81455611e+25]], shape=(1, 1), dtype=float64)\n",
      "186 objective: tf.Tensor([[-1.10614898e+27]], shape=(1, 1), dtype=float64)\n",
      "187 objective: tf.Tensor([[-1.06966022e+24]], shape=(1, 1), dtype=float64)\n",
      "188 objective: tf.Tensor([[-6.87540314e+26]], shape=(1, 1), dtype=float64)\n",
      "189 objective: tf.Tensor([[-6.3524379e+25]], shape=(1, 1), dtype=float64)\n",
      "190 objective: tf.Tensor([[-3.59441351e+23]], shape=(1, 1), dtype=float64)\n",
      "191 objective: tf.Tensor([[-1.12623881e+25]], shape=(1, 1), dtype=float64)\n",
      "192 objective: tf.Tensor([[-2.90961032e+22]], shape=(1, 1), dtype=float64)\n",
      "193 objective: tf.Tensor([[-2.06357044e+26]], shape=(1, 1), dtype=float64)\n",
      "194 objective: tf.Tensor([[-7.9014116e+24]], shape=(1, 1), dtype=float64)\n",
      "195 objective: tf.Tensor([[-6.93266089e+26]], shape=(1, 1), dtype=float64)\n",
      "196 objective: tf.Tensor([[-5.77728977e+22]], shape=(1, 1), dtype=float64)\n",
      "197 objective: tf.Tensor([[-1.23794141e+24]], shape=(1, 1), dtype=float64)\n",
      "198 objective: tf.Tensor([[-4.66423622e+24]], shape=(1, 1), dtype=float64)\n",
      "199 objective: tf.Tensor([[-7.14950457e+22]], shape=(1, 1), dtype=float64)\n",
      "200 objective: tf.Tensor([[-1.29440205e+24]], shape=(1, 1), dtype=float64)\n",
      "201 objective: tf.Tensor([[-6.06199665e+20]], shape=(1, 1), dtype=float64)\n",
      "202 objective: tf.Tensor([[-1.18260129e+21]], shape=(1, 1), dtype=float64)\n",
      "203 objective: tf.Tensor([[-5.17783194e+23]], shape=(1, 1), dtype=float64)\n",
      "204 objective: tf.Tensor([[-1.61222989e+22]], shape=(1, 1), dtype=float64)\n",
      "205 objective: tf.Tensor([[-6.11506459e+22]], shape=(1, 1), dtype=float64)\n",
      "206 objective: tf.Tensor([[-1.42281142e+26]], shape=(1, 1), dtype=float64)\n",
      "207 objective: tf.Tensor([[-2.15716056e+25]], shape=(1, 1), dtype=float64)\n",
      "208 objective: tf.Tensor([[-2.9006867e+26]], shape=(1, 1), dtype=float64)\n",
      "209 objective: tf.Tensor([[-1.38667996e+21]], shape=(1, 1), dtype=float64)\n",
      "210 objective: tf.Tensor([[-1.39107603e+23]], shape=(1, 1), dtype=float64)\n",
      "211 objective: tf.Tensor([[-4.35077838e+27]], shape=(1, 1), dtype=float64)\n",
      "212 objective: tf.Tensor([[-1.21240249e+27]], shape=(1, 1), dtype=float64)\n",
      "213 objective: tf.Tensor([[-2.36926699e+25]], shape=(1, 1), dtype=float64)\n",
      "214 objective: tf.Tensor([[-1.04200267e+27]], shape=(1, 1), dtype=float64)\n",
      "215 objective: tf.Tensor([[-2.15832385e+26]], shape=(1, 1), dtype=float64)\n",
      "216 objective: tf.Tensor([[-5.43357801e+24]], shape=(1, 1), dtype=float64)\n",
      "217 objective: tf.Tensor([[-6.36028756e+25]], shape=(1, 1), dtype=float64)\n",
      "218 objective: tf.Tensor([[-5.71675569e+25]], shape=(1, 1), dtype=float64)\n",
      "219 objective: tf.Tensor([[-4.07911111e+25]], shape=(1, 1), dtype=float64)\n",
      "220 objective: tf.Tensor([[-1.20417772e+21]], shape=(1, 1), dtype=float64)\n",
      "221 objective: tf.Tensor([[-1.14530302e+24]], shape=(1, 1), dtype=float64)\n"
     ]
    },
    {
     "name": "stdout",
     "output_type": "stream",
     "text": [
      "222 objective: tf.Tensor([[-8.00798227e+21]], shape=(1, 1), dtype=float64)\n",
      "223 objective: tf.Tensor([[-1.61560691e+26]], shape=(1, 1), dtype=float64)\n",
      "224 objective: tf.Tensor([[-5.5044832e+26]], shape=(1, 1), dtype=float64)\n",
      "225 objective: tf.Tensor([[-1.64774502e+27]], shape=(1, 1), dtype=float64)\n",
      "226 objective: tf.Tensor([[-8.01169038e+22]], shape=(1, 1), dtype=float64)\n",
      "227 objective: tf.Tensor([[-1.98770082e+26]], shape=(1, 1), dtype=float64)\n",
      "228 objective: tf.Tensor([[-3.91570611e+23]], shape=(1, 1), dtype=float64)\n",
      "229 objective: tf.Tensor([[-9.34978441e+26]], shape=(1, 1), dtype=float64)\n",
      "230 objective: tf.Tensor([[-5.41807302e+26]], shape=(1, 1), dtype=float64)\n",
      "231 objective: tf.Tensor([[-1.34656033e+27]], shape=(1, 1), dtype=float64)\n",
      "232 objective: tf.Tensor([[-2.88611118e+25]], shape=(1, 1), dtype=float64)\n",
      "233 objective: tf.Tensor([[-6.78734805e+25]], shape=(1, 1), dtype=float64)\n",
      "234 objective: tf.Tensor([[-1.82907533e+27]], shape=(1, 1), dtype=float64)\n",
      "235 objective: tf.Tensor([[-2.24829393e+24]], shape=(1, 1), dtype=float64)\n",
      "236 objective: tf.Tensor([[-2.59554295e+27]], shape=(1, 1), dtype=float64)\n",
      "237 objective: tf.Tensor([[-6.40772416e+23]], shape=(1, 1), dtype=float64)\n",
      "238 objective: tf.Tensor([[-1.31763525e+22]], shape=(1, 1), dtype=float64)\n",
      "239 objective: tf.Tensor([[-1.16359224e+28]], shape=(1, 1), dtype=float64)\n",
      "240 objective: tf.Tensor([[-2.56297971e+23]], shape=(1, 1), dtype=float64)\n",
      "241 objective: tf.Tensor([[-8.86032107e+22]], shape=(1, 1), dtype=float64)\n",
      "242 objective: tf.Tensor([[-4.48967521e+26]], shape=(1, 1), dtype=float64)\n",
      "243 objective: tf.Tensor([[-2.75179338e+23]], shape=(1, 1), dtype=float64)\n",
      "244 objective: tf.Tensor([[-2.59571919e+22]], shape=(1, 1), dtype=float64)\n",
      "245 objective: tf.Tensor([[-1.57093263e+20]], shape=(1, 1), dtype=float64)\n",
      "246 objective: tf.Tensor([[-3.46779837e+25]], shape=(1, 1), dtype=float64)\n",
      "247 objective: tf.Tensor([[-2.821493e+27]], shape=(1, 1), dtype=float64)\n",
      "248 objective: tf.Tensor([[-8.44914101e+21]], shape=(1, 1), dtype=float64)\n",
      "249 objective: tf.Tensor([[-1.07649086e+26]], shape=(1, 1), dtype=float64)\n",
      "250 objective: tf.Tensor([[-1.02047769e+22]], shape=(1, 1), dtype=float64)\n",
      "251 objective: tf.Tensor([[-3.38811236e+24]], shape=(1, 1), dtype=float64)\n",
      "252 objective: tf.Tensor([[-3.88699794e+27]], shape=(1, 1), dtype=float64)\n",
      "253 objective: tf.Tensor([[-2.43600279e+24]], shape=(1, 1), dtype=float64)\n",
      "254 objective: tf.Tensor([[-2.11822806e+23]], shape=(1, 1), dtype=float64)\n",
      "255 objective: tf.Tensor([[-4.34069453e+26]], shape=(1, 1), dtype=float64)\n",
      "256 objective: tf.Tensor([[-3.7729914e+25]], shape=(1, 1), dtype=float64)\n",
      "257 objective: tf.Tensor([[-1.64952315e+26]], shape=(1, 1), dtype=float64)\n",
      "258 objective: tf.Tensor([[-4.89644849e+25]], shape=(1, 1), dtype=float64)\n",
      "259 objective: tf.Tensor([[-9.52241611e+27]], shape=(1, 1), dtype=float64)\n",
      "260 objective: tf.Tensor([[-1.46816581e+26]], shape=(1, 1), dtype=float64)\n",
      "261 objective: tf.Tensor([[-1.5849991e+24]], shape=(1, 1), dtype=float64)\n",
      "262 objective: tf.Tensor([[-4.26121431e+26]], shape=(1, 1), dtype=float64)\n",
      "263 objective: tf.Tensor([[-2.76579765e+25]], shape=(1, 1), dtype=float64)\n",
      "264 objective: tf.Tensor([[-1.09077731e+25]], shape=(1, 1), dtype=float64)\n",
      "265 objective: tf.Tensor([[-3.8474678e+27]], shape=(1, 1), dtype=float64)\n",
      "266 objective: tf.Tensor([[-3.32065467e+21]], shape=(1, 1), dtype=float64)\n",
      "267 objective: tf.Tensor([[-6.92102329e+23]], shape=(1, 1), dtype=float64)\n",
      "268 objective: tf.Tensor([[-4.21863445e+25]], shape=(1, 1), dtype=float64)\n",
      "269 objective: tf.Tensor([[-3.32520793e+26]], shape=(1, 1), dtype=float64)\n",
      "270 objective: tf.Tensor([[-2.44789444e+24]], shape=(1, 1), dtype=float64)\n",
      "271 objective: tf.Tensor([[-1.50930373e+27]], shape=(1, 1), dtype=float64)\n",
      "272 objective: tf.Tensor([[-7.17310447e+23]], shape=(1, 1), dtype=float64)\n",
      "273 objective: tf.Tensor([[-1.41770787e+26]], shape=(1, 1), dtype=float64)\n",
      "274 objective: tf.Tensor([[-2.93608264e+26]], shape=(1, 1), dtype=float64)\n",
      "275 objective: tf.Tensor([[-4.1187166e+26]], shape=(1, 1), dtype=float64)\n",
      "276 objective: tf.Tensor([[-8.41820199e+26]], shape=(1, 1), dtype=float64)\n",
      "277 objective: tf.Tensor([[-9.16983056e+23]], shape=(1, 1), dtype=float64)\n",
      "278 objective: tf.Tensor([[-1.31474008e+24]], shape=(1, 1), dtype=float64)\n",
      "279 objective: tf.Tensor([[-1.72706854e+22]], shape=(1, 1), dtype=float64)\n",
      "280 objective: tf.Tensor([[-5.59062803e+24]], shape=(1, 1), dtype=float64)\n",
      "281 objective: tf.Tensor([[-5.76415919e+26]], shape=(1, 1), dtype=float64)\n",
      "282 objective: tf.Tensor([[-7.22005495e+26]], shape=(1, 1), dtype=float64)\n",
      "283 objective: tf.Tensor([[-1.17360763e+23]], shape=(1, 1), dtype=float64)\n",
      "284 objective: tf.Tensor([[-3.65908426e+27]], shape=(1, 1), dtype=float64)\n",
      "285 objective: tf.Tensor([[-3.57617016e+23]], shape=(1, 1), dtype=float64)\n",
      "286 objective: tf.Tensor([[-6.03175261e+25]], shape=(1, 1), dtype=float64)\n",
      "287 objective: tf.Tensor([[-4.65554502e+27]], shape=(1, 1), dtype=float64)\n",
      "288 objective: tf.Tensor([[-1.15512238e+25]], shape=(1, 1), dtype=float64)\n",
      "289 objective: tf.Tensor([[-6.95661809e+21]], shape=(1, 1), dtype=float64)\n",
      "290 objective: tf.Tensor([[-4.88325076e+26]], shape=(1, 1), dtype=float64)\n",
      "291 objective: tf.Tensor([[-9.01584723e+25]], shape=(1, 1), dtype=float64)\n",
      "292 objective: tf.Tensor([[-2.30988515e+26]], shape=(1, 1), dtype=float64)\n",
      "293 objective: tf.Tensor([[-2.52369534e+25]], shape=(1, 1), dtype=float64)\n",
      "294 objective: tf.Tensor([[-2.51393874e+27]], shape=(1, 1), dtype=float64)\n",
      "295 objective: tf.Tensor([[-1.98760913e+26]], shape=(1, 1), dtype=float64)\n",
      "296 objective: tf.Tensor([[-4.73599348e+23]], shape=(1, 1), dtype=float64)\n",
      "297 objective: tf.Tensor([[-2.25607991e+24]], shape=(1, 1), dtype=float64)\n",
      "298 objective: tf.Tensor([[-2.40552617e+27]], shape=(1, 1), dtype=float64)\n",
      "299 objective: tf.Tensor([[-1.41876322e+26]], shape=(1, 1), dtype=float64)\n",
      "300 objective: tf.Tensor([[-1.62455337e+23]], shape=(1, 1), dtype=float64)\n",
      "301 objective: tf.Tensor([[-4.90136727e+27]], shape=(1, 1), dtype=float64)\n",
      "302 objective: tf.Tensor([[-3.88663374e+22]], shape=(1, 1), dtype=float64)\n",
      "303 objective: tf.Tensor([[-1.84113335e+24]], shape=(1, 1), dtype=float64)\n",
      "304 objective: tf.Tensor([[-2.30023622e+22]], shape=(1, 1), dtype=float64)\n",
      "305 objective: tf.Tensor([[-2.18963793e+22]], shape=(1, 1), dtype=float64)\n",
      "306 objective: tf.Tensor([[-1.96438542e+24]], shape=(1, 1), dtype=float64)\n",
      "307 objective: tf.Tensor([[-4.48023674e+24]], shape=(1, 1), dtype=float64)\n",
      "308 objective: tf.Tensor([[-9.96885678e+22]], shape=(1, 1), dtype=float64)\n",
      "309 objective: tf.Tensor([[-1.78323005e+24]], shape=(1, 1), dtype=float64)\n",
      "310 objective: tf.Tensor([[-1.97891903e+23]], shape=(1, 1), dtype=float64)\n",
      "311 objective: tf.Tensor([[-1.5435077e+22]], shape=(1, 1), dtype=float64)\n",
      "312 objective: tf.Tensor([[-2.45744393e+26]], shape=(1, 1), dtype=float64)\n",
      "313 objective: tf.Tensor([[-1.76463486e+23]], shape=(1, 1), dtype=float64)\n",
      "314 objective: tf.Tensor([[-1.01933836e+27]], shape=(1, 1), dtype=float64)\n",
      "315 objective: tf.Tensor([[-7.31550173e+21]], shape=(1, 1), dtype=float64)\n",
      "316 objective: tf.Tensor([[-4.12500891e+22]], shape=(1, 1), dtype=float64)\n",
      "317 objective: tf.Tensor([[-1.22902006e+24]], shape=(1, 1), dtype=float64)\n",
      "318 objective: tf.Tensor([[-1.42885285e+28]], shape=(1, 1), dtype=float64)\n",
      "319 objective: tf.Tensor([[-2.04176062e+28]], shape=(1, 1), dtype=float64)\n",
      "320 objective: tf.Tensor([[-2.18769945e+22]], shape=(1, 1), dtype=float64)\n",
      "321 objective: tf.Tensor([[-1.50388871e+23]], shape=(1, 1), dtype=float64)\n",
      "322 objective: tf.Tensor([[-2.98348781e+22]], shape=(1, 1), dtype=float64)\n",
      "323 objective: tf.Tensor([[-3.03864241e+27]], shape=(1, 1), dtype=float64)\n",
      "324 objective: tf.Tensor([[-5.55549711e+22]], shape=(1, 1), dtype=float64)\n",
      "325 objective: tf.Tensor([[-3.72850189e+25]], shape=(1, 1), dtype=float64)\n",
      "326 objective: tf.Tensor([[-1.35642952e+27]], shape=(1, 1), dtype=float64)\n",
      "327 objective: tf.Tensor([[-9.07597887e+22]], shape=(1, 1), dtype=float64)\n",
      "328 objective: tf.Tensor([[-1.01279741e+24]], shape=(1, 1), dtype=float64)\n",
      "329 objective: tf.Tensor([[-8.29932683e+24]], shape=(1, 1), dtype=float64)\n",
      "330 objective: tf.Tensor([[-3.04198304e+24]], shape=(1, 1), dtype=float64)\n",
      "331 objective: tf.Tensor([[-1.0305426e+26]], shape=(1, 1), dtype=float64)\n"
     ]
    },
    {
     "name": "stdout",
     "output_type": "stream",
     "text": [
      "332 objective: tf.Tensor([[-1.32649794e+23]], shape=(1, 1), dtype=float64)\n",
      "333 objective: tf.Tensor([[-2.26171716e+26]], shape=(1, 1), dtype=float64)\n",
      "334 objective: tf.Tensor([[-4.31339334e+25]], shape=(1, 1), dtype=float64)\n",
      "335 objective: tf.Tensor([[-2.08330887e+26]], shape=(1, 1), dtype=float64)\n",
      "336 objective: tf.Tensor([[-3.05441965e+27]], shape=(1, 1), dtype=float64)\n",
      "337 objective: tf.Tensor([[-1.15668217e+27]], shape=(1, 1), dtype=float64)\n",
      "338 objective: tf.Tensor([[-8.04774239e+22]], shape=(1, 1), dtype=float64)\n",
      "339 objective: tf.Tensor([[-1.69632689e+27]], shape=(1, 1), dtype=float64)\n",
      "340 objective: tf.Tensor([[-4.3885393e+24]], shape=(1, 1), dtype=float64)\n",
      "341 objective: tf.Tensor([[-8.06580649e+27]], shape=(1, 1), dtype=float64)\n",
      "342 objective: tf.Tensor([[-1.12510304e+25]], shape=(1, 1), dtype=float64)\n",
      "343 objective: tf.Tensor([[-1.46913538e+26]], shape=(1, 1), dtype=float64)\n",
      "344 objective: tf.Tensor([[-8.74302427e+23]], shape=(1, 1), dtype=float64)\n",
      "345 objective: tf.Tensor([[-1.15320684e+27]], shape=(1, 1), dtype=float64)\n",
      "346 objective: tf.Tensor([[-2.35190917e+27]], shape=(1, 1), dtype=float64)\n",
      "347 objective: tf.Tensor([[-2.19088952e+22]], shape=(1, 1), dtype=float64)\n",
      "348 objective: tf.Tensor([[-2.34513546e+21]], shape=(1, 1), dtype=float64)\n",
      "349 objective: tf.Tensor([[-2.39036595e+27]], shape=(1, 1), dtype=float64)\n",
      "350 objective: tf.Tensor([[-7.89448802e+23]], shape=(1, 1), dtype=float64)\n",
      "351 objective: tf.Tensor([[-1.73675648e+24]], shape=(1, 1), dtype=float64)\n",
      "352 objective: tf.Tensor([[-2.02887519e+26]], shape=(1, 1), dtype=float64)\n",
      "353 objective: tf.Tensor([[-5.50765038e+24]], shape=(1, 1), dtype=float64)\n",
      "354 objective: tf.Tensor([[-7.42070687e+22]], shape=(1, 1), dtype=float64)\n",
      "355 objective: tf.Tensor([[-1.7182405e+26]], shape=(1, 1), dtype=float64)\n",
      "356 objective: tf.Tensor([[-2.37842085e+22]], shape=(1, 1), dtype=float64)\n",
      "357 objective: tf.Tensor([[-2.10284773e+22]], shape=(1, 1), dtype=float64)\n",
      "358 objective: tf.Tensor([[-1.18581273e+22]], shape=(1, 1), dtype=float64)\n",
      "359 objective: tf.Tensor([[-9.67794557e+23]], shape=(1, 1), dtype=float64)\n",
      "360 objective: tf.Tensor([[-5.34132708e+25]], shape=(1, 1), dtype=float64)\n",
      "361 objective: tf.Tensor([[-6.3562765e+25]], shape=(1, 1), dtype=float64)\n",
      "362 objective: tf.Tensor([[-4.21819133e+23]], shape=(1, 1), dtype=float64)\n",
      "363 objective: tf.Tensor([[-3.38940203e+23]], shape=(1, 1), dtype=float64)\n",
      "364 objective: tf.Tensor([[-2.58709435e+24]], shape=(1, 1), dtype=float64)\n",
      "365 objective: tf.Tensor([[-1.18125702e+26]], shape=(1, 1), dtype=float64)\n",
      "366 objective: tf.Tensor([[-1.39180381e+27]], shape=(1, 1), dtype=float64)\n",
      "367 objective: tf.Tensor([[-1.11652448e+28]], shape=(1, 1), dtype=float64)\n",
      "368 objective: tf.Tensor([[-1.3316516e+27]], shape=(1, 1), dtype=float64)\n",
      "369 objective: tf.Tensor([[-2.9252055e+26]], shape=(1, 1), dtype=float64)\n",
      "370 objective: tf.Tensor([[-2.08881753e+22]], shape=(1, 1), dtype=float64)\n",
      "371 objective: tf.Tensor([[-5.84588886e+22]], shape=(1, 1), dtype=float64)\n",
      "372 objective: tf.Tensor([[-7.67042513e+23]], shape=(1, 1), dtype=float64)\n",
      "373 objective: tf.Tensor([[-3.40860052e+22]], shape=(1, 1), dtype=float64)\n",
      "374 objective: tf.Tensor([[-1.5885785e+21]], shape=(1, 1), dtype=float64)\n",
      "375 objective: tf.Tensor([[-9.01651459e+28]], shape=(1, 1), dtype=float64)\n",
      "376 objective: tf.Tensor([[-1.21728289e+26]], shape=(1, 1), dtype=float64)\n",
      "377 objective: tf.Tensor([[-3.15468399e+22]], shape=(1, 1), dtype=float64)\n",
      "378 objective: tf.Tensor([[-1.1656578e+26]], shape=(1, 1), dtype=float64)\n",
      "379 objective: tf.Tensor([[-2.35820111e+26]], shape=(1, 1), dtype=float64)\n",
      "380 objective: tf.Tensor([[-2.81493781e+22]], shape=(1, 1), dtype=float64)\n",
      "381 objective: tf.Tensor([[-8.35410986e+21]], shape=(1, 1), dtype=float64)\n",
      "382 objective: tf.Tensor([[-2.6716536e+22]], shape=(1, 1), dtype=float64)\n",
      "383 objective: tf.Tensor([[-3.85274202e+25]], shape=(1, 1), dtype=float64)\n",
      "384 objective: tf.Tensor([[-6.73770085e+27]], shape=(1, 1), dtype=float64)\n",
      "385 objective: tf.Tensor([[-9.00338703e+21]], shape=(1, 1), dtype=float64)\n",
      "386 objective: tf.Tensor([[-3.41987322e+26]], shape=(1, 1), dtype=float64)\n",
      "387 objective: tf.Tensor([[-1.60046494e+23]], shape=(1, 1), dtype=float64)\n",
      "388 objective: tf.Tensor([[-1.14720725e+25]], shape=(1, 1), dtype=float64)\n",
      "389 objective: tf.Tensor([[-4.69821949e+24]], shape=(1, 1), dtype=float64)\n",
      "390 objective: tf.Tensor([[-2.32784947e+22]], shape=(1, 1), dtype=float64)\n",
      "391 objective: tf.Tensor([[-9.09645923e+26]], shape=(1, 1), dtype=float64)\n",
      "392 objective: tf.Tensor([[-1.90798475e+25]], shape=(1, 1), dtype=float64)\n",
      "393 objective: tf.Tensor([[-3.4490902e+26]], shape=(1, 1), dtype=float64)\n",
      "394 objective: tf.Tensor([[-9.74670185e+25]], shape=(1, 1), dtype=float64)\n",
      "395 objective: tf.Tensor([[-1.73265699e+26]], shape=(1, 1), dtype=float64)\n",
      "396 objective: tf.Tensor([[-6.8766604e+26]], shape=(1, 1), dtype=float64)\n",
      "397 objective: tf.Tensor([[-4.13982988e+24]], shape=(1, 1), dtype=float64)\n",
      "398 objective: tf.Tensor([[-9.90618873e+25]], shape=(1, 1), dtype=float64)\n",
      "399 objective: tf.Tensor([[-2.83133943e+23]], shape=(1, 1), dtype=float64)\n",
      "400 objective: tf.Tensor([[-2.35191053e+27]], shape=(1, 1), dtype=float64)\n",
      "401 objective: tf.Tensor([[-1.7743248e+22]], shape=(1, 1), dtype=float64)\n",
      "402 objective: tf.Tensor([[-7.5110205e+22]], shape=(1, 1), dtype=float64)\n",
      "403 objective: tf.Tensor([[-1.14292067e+23]], shape=(1, 1), dtype=float64)\n",
      "404 objective: tf.Tensor([[-7.82137438e+24]], shape=(1, 1), dtype=float64)\n",
      "405 objective: tf.Tensor([[-1.24569059e+25]], shape=(1, 1), dtype=float64)\n",
      "406 objective: tf.Tensor([[-2.1805234e+23]], shape=(1, 1), dtype=float64)\n",
      "407 objective: tf.Tensor([[-8.98646867e+24]], shape=(1, 1), dtype=float64)\n",
      "408 objective: tf.Tensor([[-1.57777072e+25]], shape=(1, 1), dtype=float64)\n",
      "409 objective: tf.Tensor([[-4.77598151e+28]], shape=(1, 1), dtype=float64)\n",
      "410 objective: tf.Tensor([[-1.68682663e+23]], shape=(1, 1), dtype=float64)\n",
      "411 objective: tf.Tensor([[-7.66385024e+24]], shape=(1, 1), dtype=float64)\n",
      "412 objective: tf.Tensor([[-6.65989102e+22]], shape=(1, 1), dtype=float64)\n",
      "413 objective: tf.Tensor([[-1.0877362e+28]], shape=(1, 1), dtype=float64)\n",
      "414 objective: tf.Tensor([[-6.19304707e+25]], shape=(1, 1), dtype=float64)\n",
      "415 objective: tf.Tensor([[-2.83051222e+22]], shape=(1, 1), dtype=float64)\n",
      "416 objective: tf.Tensor([[-2.62746348e+26]], shape=(1, 1), dtype=float64)\n",
      "417 objective: tf.Tensor([[-1.91339081e+25]], shape=(1, 1), dtype=float64)\n",
      "418 objective: tf.Tensor([[-9.8150091e+20]], shape=(1, 1), dtype=float64)\n",
      "419 objective: tf.Tensor([[-4.74562704e+22]], shape=(1, 1), dtype=float64)\n",
      "420 objective: tf.Tensor([[-1.37773199e+27]], shape=(1, 1), dtype=float64)\n",
      "421 objective: tf.Tensor([[-2.79102465e+23]], shape=(1, 1), dtype=float64)\n",
      "422 objective: tf.Tensor([[-2.88529829e+25]], shape=(1, 1), dtype=float64)\n",
      "423 objective: tf.Tensor([[-3.11815261e+26]], shape=(1, 1), dtype=float64)\n",
      "424 objective: tf.Tensor([[-4.81590351e+28]], shape=(1, 1), dtype=float64)\n",
      "425 objective: tf.Tensor([[-1.45147918e+24]], shape=(1, 1), dtype=float64)\n",
      "426 objective: tf.Tensor([[-3.91283641e+24]], shape=(1, 1), dtype=float64)\n",
      "427 objective: tf.Tensor([[-7.9728478e+24]], shape=(1, 1), dtype=float64)\n",
      "428 objective: tf.Tensor([[-1.78182362e+23]], shape=(1, 1), dtype=float64)\n",
      "429 objective: tf.Tensor([[-2.61199367e+27]], shape=(1, 1), dtype=float64)\n",
      "430 objective: tf.Tensor([[-9.46737764e+26]], shape=(1, 1), dtype=float64)\n",
      "431 objective: tf.Tensor([[-1.16766288e+27]], shape=(1, 1), dtype=float64)\n",
      "432 objective: tf.Tensor([[-2.01273582e+26]], shape=(1, 1), dtype=float64)\n",
      "433 objective: tf.Tensor([[-4.12082552e+23]], shape=(1, 1), dtype=float64)\n",
      "434 objective: tf.Tensor([[-4.40076365e+23]], shape=(1, 1), dtype=float64)\n",
      "435 objective: tf.Tensor([[-1.92350991e+26]], shape=(1, 1), dtype=float64)\n",
      "436 objective: tf.Tensor([[-3.34332112e+22]], shape=(1, 1), dtype=float64)\n",
      "437 objective: tf.Tensor([[-6.71002119e+27]], shape=(1, 1), dtype=float64)\n",
      "438 objective: tf.Tensor([[-2.16848802e+25]], shape=(1, 1), dtype=float64)\n",
      "439 objective: tf.Tensor([[-8.31191148e+25]], shape=(1, 1), dtype=float64)\n",
      "440 objective: tf.Tensor([[-4.11265321e+24]], shape=(1, 1), dtype=float64)\n",
      "441 objective: tf.Tensor([[-3.31815326e+28]], shape=(1, 1), dtype=float64)\n"
     ]
    },
    {
     "name": "stdout",
     "output_type": "stream",
     "text": [
      "442 objective: tf.Tensor([[-4.64088771e+23]], shape=(1, 1), dtype=float64)\n",
      "443 objective: tf.Tensor([[-7.68910289e+21]], shape=(1, 1), dtype=float64)\n",
      "444 objective: tf.Tensor([[-4.27555659e+27]], shape=(1, 1), dtype=float64)\n",
      "445 objective: tf.Tensor([[-1.88491588e+25]], shape=(1, 1), dtype=float64)\n",
      "446 objective: tf.Tensor([[-3.88184999e+24]], shape=(1, 1), dtype=float64)\n",
      "447 objective: tf.Tensor([[-6.6410269e+27]], shape=(1, 1), dtype=float64)\n",
      "448 objective: tf.Tensor([[-9.61240643e+23]], shape=(1, 1), dtype=float64)\n",
      "449 objective: tf.Tensor([[-2.31074428e+23]], shape=(1, 1), dtype=float64)\n",
      "450 objective: tf.Tensor([[-3.77116216e+24]], shape=(1, 1), dtype=float64)\n",
      "451 objective: tf.Tensor([[-1.65014925e+25]], shape=(1, 1), dtype=float64)\n",
      "452 objective: tf.Tensor([[-6.30827069e+22]], shape=(1, 1), dtype=float64)\n",
      "453 objective: tf.Tensor([[-2.16379028e+23]], shape=(1, 1), dtype=float64)\n",
      "454 objective: tf.Tensor([[-1.68964405e+25]], shape=(1, 1), dtype=float64)\n",
      "455 objective: tf.Tensor([[-3.98143913e+23]], shape=(1, 1), dtype=float64)\n",
      "456 objective: tf.Tensor([[-3.38554082e+25]], shape=(1, 1), dtype=float64)\n",
      "457 objective: tf.Tensor([[-3.01146725e+22]], shape=(1, 1), dtype=float64)\n",
      "458 objective: tf.Tensor([[-1.13144776e+22]], shape=(1, 1), dtype=float64)\n",
      "459 objective: tf.Tensor([[-9.86619642e+26]], shape=(1, 1), dtype=float64)\n",
      "460 objective: tf.Tensor([[-1.43755987e+27]], shape=(1, 1), dtype=float64)\n",
      "461 objective: tf.Tensor([[-6.37524256e+26]], shape=(1, 1), dtype=float64)\n",
      "462 objective: tf.Tensor([[-4.4717816e+25]], shape=(1, 1), dtype=float64)\n",
      "463 objective: tf.Tensor([[-7.12099279e+26]], shape=(1, 1), dtype=float64)\n",
      "464 objective: tf.Tensor([[-5.91992485e+23]], shape=(1, 1), dtype=float64)\n",
      "465 objective: tf.Tensor([[-2.90047309e+25]], shape=(1, 1), dtype=float64)\n",
      "466 objective: tf.Tensor([[-1.01796132e+25]], shape=(1, 1), dtype=float64)\n",
      "467 objective: tf.Tensor([[-3.08354417e+26]], shape=(1, 1), dtype=float64)\n",
      "468 objective: tf.Tensor([[-5.44054259e+24]], shape=(1, 1), dtype=float64)\n",
      "469 objective: tf.Tensor([[-3.37396819e+22]], shape=(1, 1), dtype=float64)\n",
      "470 objective: tf.Tensor([[-7.52521334e+23]], shape=(1, 1), dtype=float64)\n",
      "471 objective: tf.Tensor([[-2.41532406e+24]], shape=(1, 1), dtype=float64)\n",
      "472 objective: tf.Tensor([[-3.53990728e+23]], shape=(1, 1), dtype=float64)\n",
      "473 objective: tf.Tensor([[-1.36727615e+25]], shape=(1, 1), dtype=float64)\n",
      "474 objective: tf.Tensor([[-1.04666252e+23]], shape=(1, 1), dtype=float64)\n",
      "475 objective: tf.Tensor([[-2.20509062e+24]], shape=(1, 1), dtype=float64)\n",
      "476 objective: tf.Tensor([[-2.35620198e+23]], shape=(1, 1), dtype=float64)\n",
      "477 objective: tf.Tensor([[-3.31204692e+26]], shape=(1, 1), dtype=float64)\n",
      "478 objective: tf.Tensor([[-8.51984569e+23]], shape=(1, 1), dtype=float64)\n",
      "479 objective: tf.Tensor([[-2.4102086e+27]], shape=(1, 1), dtype=float64)\n",
      "480 objective: tf.Tensor([[-6.90389752e+23]], shape=(1, 1), dtype=float64)\n",
      "481 objective: tf.Tensor([[-1.46624741e+24]], shape=(1, 1), dtype=float64)\n",
      "482 objective: tf.Tensor([[-2.77656447e+22]], shape=(1, 1), dtype=float64)\n",
      "483 objective: tf.Tensor([[-7.22181453e+21]], shape=(1, 1), dtype=float64)\n",
      "484 objective: tf.Tensor([[-1.26585677e+27]], shape=(1, 1), dtype=float64)\n",
      "485 objective: tf.Tensor([[-2.85501893e+25]], shape=(1, 1), dtype=float64)\n",
      "486 objective: tf.Tensor([[-6.57887959e+22]], shape=(1, 1), dtype=float64)\n",
      "487 objective: tf.Tensor([[-6.34423604e+27]], shape=(1, 1), dtype=float64)\n",
      "488 objective: tf.Tensor([[-1.0515403e+25]], shape=(1, 1), dtype=float64)\n",
      "489 objective: tf.Tensor([[-1.17934992e+25]], shape=(1, 1), dtype=float64)\n",
      "490 objective: tf.Tensor([[-7.80378969e+22]], shape=(1, 1), dtype=float64)\n",
      "491 objective: tf.Tensor([[-4.2265316e+22]], shape=(1, 1), dtype=float64)\n",
      "492 objective: tf.Tensor([[-1.15000999e+24]], shape=(1, 1), dtype=float64)\n",
      "493 objective: tf.Tensor([[-8.33782996e+23]], shape=(1, 1), dtype=float64)\n",
      "494 objective: tf.Tensor([[-1.47334142e+22]], shape=(1, 1), dtype=float64)\n",
      "495 objective: tf.Tensor([[-8.93627479e+24]], shape=(1, 1), dtype=float64)\n",
      "496 objective: tf.Tensor([[-1.31873577e+24]], shape=(1, 1), dtype=float64)\n",
      "497 objective: tf.Tensor([[-2.15323527e+22]], shape=(1, 1), dtype=float64)\n",
      "498 objective: tf.Tensor([[-3.70519881e+23]], shape=(1, 1), dtype=float64)\n",
      "499 objective: tf.Tensor([[-5.06199821e+25]], shape=(1, 1), dtype=float64)\n"
     ]
    }
   ],
   "source": [
    "optimizer = tf.keras.optimizers.Adam(learning_rate = 0.5)\n",
    "for i in range(500):\n",
    "    with tf.GradientTape() as tape:\n",
    "        objective = elbo(m1,S1,m2,S2)\n",
    "        gradients = tape.gradient(objective, [m1,S1,m2,S2])\n",
    "    print(i, \"objective:\", objective)\n",
    "    optimizer.apply_gradients(zip(gradients, [m1,S1,m2,S2]))"
   ]
  },
  {
   "cell_type": "code",
   "execution_count": 50,
   "metadata": {},
   "outputs": [
    {
     "name": "stderr",
     "output_type": "stream",
     "text": [
      "/opt/anaconda3/envs/tensorflow/lib/python3.7/site-packages/ipykernel_launcher.py:4: RuntimeWarning: covariance is not positive-semidefinite.\n",
      "  after removing the cwd from sys.path.\n"
     ]
    }
   ],
   "source": [
    "inv_K_Z1Z1 = inv(  cholesky_with_jitter(K1(Z1,Z1),1e-10)@tf.transpose(cholesky_with_jitter(K1(Z1,Z1),1e-10)))\n",
    "f1_sample_mean = np.matmul(np.matmul(K1(Xs,Z1),inv_K_Z1Z1),m1)\n",
    "f1_sample_covariance = K1(Xs,Xs)-np.matmul(np.matmul(K1(Xs,Z1),inv_K_Z1Z1),K1(Z1,Xs))+np.matmul(np.matmul(np.matmul(np.matmul(K1(Xs,Z1),inv_K_Z1Z1),S1@tf.transpose(S1)),inv_K_Z1Z1),K1(Z1,Xs))\n",
    "f1_samples = np.random.multivariate_normal(f1_sample_mean.reshape(100,), f1_sample_covariance, 10)\n",
    "\n"
   ]
  },
  {
   "cell_type": "code",
   "execution_count": 51,
   "metadata": {},
   "outputs": [
    {
     "data": {
      "text/plain": [
       "[<matplotlib.lines.Line2D at 0x7f97cf7ad690>,\n",
       " <matplotlib.lines.Line2D at 0x7f97b8d24c10>,\n",
       " <matplotlib.lines.Line2D at 0x7f97d7332490>,\n",
       " <matplotlib.lines.Line2D at 0x7f97dab23ad0>,\n",
       " <matplotlib.lines.Line2D at 0x7f97c90d1e50>,\n",
       " <matplotlib.lines.Line2D at 0x7f97d70c0510>,\n",
       " <matplotlib.lines.Line2D at 0x7f97d71a41d0>,\n",
       " <matplotlib.lines.Line2D at 0x7f97d71b7cd0>,\n",
       " <matplotlib.lines.Line2D at 0x7f97d6ee23d0>,\n",
       " <matplotlib.lines.Line2D at 0x7f97d5f60290>]"
      ]
     },
     "execution_count": 51,
     "metadata": {},
     "output_type": "execute_result"
    },
    {
     "data": {
      "image/png": "[encoded data removed]",
      "text/plain": [
       "<Figure size 432x288 with 1 Axes>"
      ]
     },
     "metadata": {
      "needs_background": "light"
     },
     "output_type": "display_data"
    }
   ],
   "source": [
    "fig = plt.figure()\n",
    "ax = plt.axes()\n",
    "ax.plot(Xs,f1_samples.T)"
   ]
  },
  {
   "cell_type": "code",
   "execution_count": 53,
   "metadata": {},
   "outputs": [],
   "source": [
    "inv_K_Z1Z1 = inv(  cholesky_with_jitter(K1(Z1,Z1),1e-10)@tf.transpose(cholesky_with_jitter(K1(Z1,Z1),1e-10)))\n",
    "\n",
    "f1_sample_list = []\n",
    "\n",
    "for i in range (0,len(Xs)):\n",
    "        \n",
    "    f1_sample_mean = tf.linalg.matmul(tf.linalg.matmul(K1(Xs.reshape(-1,1),Z1),inv_K_Z1Z1),m1)\n",
    "    f1_sample_covariance = K1(Xs.reshape(-1,1),Xs.reshape(-1,1))-tf.linalg.matmul(tf.linalg.matmul(K1(Xs.reshape(-1,1),Z1),inv_K_Z1Z1),K1(Z1,Xs.reshape(-1,1)))+tf.linalg.matmul(tf.linalg.matmul(tf.linalg.matmul(tf.linalg.matmul(K1(Xs.reshape(-1,1),Z1),inv_K_Z1Z1),S1@tf.transpose(S1)),inv_K_Z1Z1),K1(Z1,Xs.reshape(-1,1)))\n",
    "    f1_sample = tf.math.reduce_mean(tfp.distributions.Normal(f1_sample_mean,f1_sample_covariance).sample(100))\n",
    "    f1_sample_list.append(f1_sample)"
   ]
  },
  {
   "cell_type": "code",
   "execution_count": 54,
   "metadata": {},
   "outputs": [],
   "source": [
    "f1_sample_list = np.array(f1_sample_list).reshape(-1,1)"
   ]
  },
  {
   "cell_type": "code",
   "execution_count": 55,
   "metadata": {},
   "outputs": [
    {
     "name": "stderr",
     "output_type": "stream",
     "text": [
      "/opt/anaconda3/envs/tensorflow/lib/python3.7/site-packages/ipykernel_launcher.py:6: RuntimeWarning: covariance is not positive-semidefinite.\n",
      "  \n"
     ]
    }
   ],
   "source": [
    "inv_K_Z2Z2 = inv(  cholesky_with_jitter(K2(Z2,Z2),1e-10)@tf.transpose(cholesky_with_jitter(K2(Z2,Z2),1e-10)))\n",
    "\n",
    "\n",
    "f2_sample_mean = np.matmul(np.matmul(K2(f1_sample_list,Z2),inv_K_Z2Z2),m2)\n",
    "f2_sample_covariance = K2(f1_sample_list,f1_sample_list)-np.matmul(np.matmul(K2(f1_sample_list,Z2),inv_K_Z2Z2),K2(Z2,f1_sample_list))+np.matmul(np.matmul(np.matmul(np.matmul(K2(f1_sample_list,Z2),inv_K_Z2Z2),S2@tf.transpose(S2)),inv_K_Z2Z2),K2(Z2,f1_sample_list))\n",
    "f2_samples = np.random.multivariate_normal(f2_sample_mean.reshape(100,), f2_sample_covariance, 10)\n",
    "\n",
    "\n",
    "\n"
   ]
  },
  {
   "cell_type": "code",
   "execution_count": 56,
   "metadata": {},
   "outputs": [
    {
     "data": {
      "text/plain": [
       "(100, 1)"
      ]
     },
     "execution_count": 56,
     "metadata": {},
     "output_type": "execute_result"
    }
   ],
   "source": [
    "f1_sample_list.shape"
   ]
  },
  {
   "cell_type": "code",
   "execution_count": 57,
   "metadata": {},
   "outputs": [
    {
     "data": {
      "text/plain": [
       "(100,)"
      ]
     },
     "execution_count": 57,
     "metadata": {},
     "output_type": "execute_result"
    }
   ],
   "source": [
    "f2_samples[0].T.shape"
   ]
  },
  {
   "cell_type": "code",
   "execution_count": 58,
   "metadata": {},
   "outputs": [
    {
     "data": {
      "text/plain": [
       "[<matplotlib.lines.Line2D at 0x7f97cfaf2790>,\n",
       " <matplotlib.lines.Line2D at 0x7f97b89c6b10>,\n",
       " <matplotlib.lines.Line2D at 0x7f97d6ebbd90>,\n",
       " <matplotlib.lines.Line2D at 0x7f97e702d350>,\n",
       " <matplotlib.lines.Line2D at 0x7f97b9685950>,\n",
       " <matplotlib.lines.Line2D at 0x7f97b9685ed0>,\n",
       " <matplotlib.lines.Line2D at 0x7f97b9685410>,\n",
       " <matplotlib.lines.Line2D at 0x7f97b9685490>,\n",
       " <matplotlib.lines.Line2D at 0x7f97b9685150>,\n",
       " <matplotlib.lines.Line2D at 0x7f97b96858d0>]"
      ]
     },
     "execution_count": 58,
     "metadata": {},
     "output_type": "execute_result"
    },
    {
     "data": {
      "image/png": "[encoded data removed]",
      "text/plain": [
       "<Figure size 432x288 with 1 Axes>"
      ]
     },
     "metadata": {
      "needs_background": "light"
     },
     "output_type": "display_data"
    }
   ],
   "source": [
    "fig = plt.figure()\n",
    "ax = plt.axes()\n",
    "ax.plot(f1_sample_list,f2_samples.T)"
   ]
  },
  {
   "cell_type": "code",
   "execution_count": 59,
   "metadata": {},
   "outputs": [
    {
     "data": {
      "text/plain": [
       "<matplotlib.collections.PathCollection at 0x7f97b8895290>"
      ]
     },
     "execution_count": 59,
     "metadata": {},
     "output_type": "execute_result"
    },
    {
     "data": {
      "image/png": "[encoded data removed]",
      "text/plain": [
       "<Figure size 432x288 with 1 Axes>"
      ]
     },
     "metadata": {
      "needs_background": "light"
     },
     "output_type": "display_data"
    }
   ],
   "source": [
    "fig = plt.figure()\n",
    "ax = plt.axes()\n",
    "ax.scatter(f1_sample_list,f2_samples[2].T)"
   ]
  },
  {
   "cell_type": "code",
   "execution_count": 60,
   "metadata": {},
   "outputs": [
    {
     "data": {
      "text/plain": [
       "[<matplotlib.lines.Line2D at 0x7f97d652ea50>,\n",
       " <matplotlib.lines.Line2D at 0x7f97e595ae90>,\n",
       " <matplotlib.lines.Line2D at 0x7f97b8a87210>,\n",
       " <matplotlib.lines.Line2D at 0x7f97b969de10>,\n",
       " <matplotlib.lines.Line2D at 0x7f97b969da10>,\n",
       " <matplotlib.lines.Line2D at 0x7f97b969d290>,\n",
       " <matplotlib.lines.Line2D at 0x7f97b969dc50>,\n",
       " <matplotlib.lines.Line2D at 0x7f97b969db50>,\n",
       " <matplotlib.lines.Line2D at 0x7f97b8d20790>,\n",
       " <matplotlib.lines.Line2D at 0x7f97d2591e50>]"
      ]
     },
     "execution_count": 60,
     "metadata": {},
     "output_type": "execute_result"
    },
    {
     "data": {
      "image/png": "[encoded data removed]",
      "text/plain": [
       "<Figure size 432x288 with 1 Axes>"
      ]
     },
     "metadata": {
      "needs_background": "light"
     },
     "output_type": "display_data"
    }
   ],
   "source": [
    "fig = plt.figure()\n",
    "ax = plt.axes()\n",
    "ax.plot(Xs,f2_samples.T)"
   ]
  },
  {
   "cell_type": "code",
   "execution_count": 61,
   "metadata": {},
   "outputs": [
    {
     "data": {
      "text/plain": [
       "<matplotlib.collections.PathCollection at 0x7f97b95ff810>"
      ]
     },
     "execution_count": 61,
     "metadata": {},
     "output_type": "execute_result"
    },
    {
     "data": {
      "image/png": "[encoded data removed]",
      "text/plain": [
       "<Figure size 432x288 with 1 Axes>"
      ]
     },
     "metadata": {
      "needs_background": "light"
     },
     "output_type": "display_data"
    }
   ],
   "source": [
    "fig = plt.figure()\n",
    "ax = plt.axes()\n",
    "ax.scatter(Xs,f2_samples[0].T)"
   ]
  }
 ],
 "metadata": {
  "kernelspec": {
   "display_name": "Python 3",
   "language": "python",
   "name": "python3"
  },
  "language_info": {
   "codemirror_mode": {
    "name": "ipython",
    "version": 3
   },
   "file_extension": ".py",
   "mimetype": "text/x-python",
   "name": "python",
   "nbconvert_exporter": "python",
   "pygments_lexer": "ipython3",
   "version": "3.7.6"
  }
 },
 "nbformat": 4,
 "nbformat_minor": 4
}
