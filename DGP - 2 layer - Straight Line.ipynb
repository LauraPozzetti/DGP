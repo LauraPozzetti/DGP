{
 "cells": [
  {
   "cell_type": "code",
   "execution_count": 1,
   "metadata": {},
   "outputs": [],
   "source": [
    "import numpy as np\n",
    "import matplotlib.pyplot as plt\n",
    "\n",
    "from scipy.spatial.distance import cdist\n",
    "\n",
    "from numpy.linalg import inv\n",
    "from numpy.linalg import det\n",
    "from numpy.linalg import eig\n",
    "\n",
    "import tensorflow as tf\n",
    "import tensorflow_probability as tfp\n",
    "\n",
    "import gpflow\n",
    "\n"
   ]
  },
  {
   "cell_type": "code",
   "execution_count": 2,
   "metadata": {},
   "outputs": [],
   "source": [
    "def cholesky_with_jitter(K, jitter):\n",
    "    k_diag = tf.linalg.diag_part(K)\n",
    "    jitter_diag = tf.fill(tf.shape(k_diag), tf.cast(jitter, dtype=K.dtype))\n",
    "    jittered_K = tf.linalg.set_diag(K, k_diag + jitter_diag)\n",
    "    return tf.linalg.cholesky(jittered_K)\n",
    "\n",
    "K1 = gpflow.kernels.SquaredExponential(variance=1, lengthscales=5)\n",
    "K2 = gpflow.kernels.SquaredExponential(variance=1, lengthscales=10)\n",
    "\n",
    "pi = tf.cast(np.pi, tf.float64)\n",
    "\n",
    "noise = tf.cast(1, tf.float64)"
   ]
  },
  {
   "cell_type": "code",
   "execution_count": 3,
   "metadata": {},
   "outputs": [],
   "source": [
    "N = 100\n",
    "M = 30"
   ]
  },
  {
   "cell_type": "code",
   "execution_count": 4,
   "metadata": {},
   "outputs": [],
   "source": [
    "Xs = np.linspace(1, 10, 100).reshape(-1,1)\n",
    "X = np.random.uniform(1, 10, N).reshape(-1,1)\n",
    "Y = 3*X\n",
    "\n",
    "Z1 = X[0:M]\n",
    "Z2 = X[0:M]"
   ]
  },
  {
   "cell_type": "code",
   "execution_count": 5,
   "metadata": {},
   "outputs": [],
   "source": [
    "m1 = tf.Variable(np.linspace(1,30,M).reshape(-1,1))\n",
    "S1 = tf.Variable(np.identity(M))\n",
    "m2 = tf.Variable(np.linspace(1,30,M).reshape(-1,1))\n",
    "S2 = tf.Variable(np.identity(M))"
   ]
  },
  {
   "cell_type": "code",
   "execution_count": 6,
   "metadata": {},
   "outputs": [],
   "source": [
    "def elbo(m1,S1,m2,S2):\n",
    "    \n",
    "    inv_K_Z1Z1 = inv(  cholesky_with_jitter(K1(Z1,Z1),1e-10)@tf.transpose(cholesky_with_jitter(K1(Z1,Z1),1e-10)))\n",
    "    f1_sample_list = []\n",
    "\n",
    "    for i in range (0,N):\n",
    "        f1_sample_mean = tf.linalg.matmul(tf.linalg.matmul(K1(X[i].reshape(-1,1),Z1),inv_K_Z1Z1),m1)\n",
    "        f1_sample_covariance = K1(X[i].reshape(-1,1),X[i].reshape(-1,1))-tf.linalg.matmul(tf.linalg.matmul(K1(X[i].reshape(-1,1),Z1),inv_K_Z1Z1),K1(Z1,X[i].reshape(-1,1)))+tf.linalg.matmul(tf.linalg.matmul(tf.linalg.matmul(tf.linalg.matmul(K1(X[i].reshape(-1,1),Z1),inv_K_Z1Z1),S1@tf.transpose(S1)),inv_K_Z1Z1),K1(Z1,X[i].reshape(-1,1)))\n",
    "        f1_sample = tf.math.reduce_mean(tfp.distributions.Normal(f1_sample_mean,f1_sample_covariance).sample(100))\n",
    "        f1_sample_list.append(f1_sample)\n",
    "    \n",
    "    \n",
    "    f1_sample_list = np.array(f1_sample_list).reshape(-1,1)\n",
    "   \n",
    "    inv_K_Z2Z2 = inv(  cholesky_with_jitter(K2(Z2,Z2),1e-10)@tf.transpose(cholesky_with_jitter(K2(Z2,Z2),1e-10)))\n",
    "\n",
    "\n",
    "    \n",
    "    likelihood_GP = tf.cast(0,tf.float64)\n",
    "        \n",
    "    for i in range (0,N):\n",
    "        \n",
    "        f2_sample_mean = tf.linalg.matmul(tf.linalg.matmul(K2(f1_sample_list[i].reshape(-1,1),Z2),inv_K_Z2Z2),m2)\n",
    "        f2_sample_covariance = K2(f1_sample_list[i].reshape(-1,1),f1_sample_list[i].reshape(-1,1))-tf.linalg.matmul(tf.linalg.matmul(K2(f1_sample_list[i].reshape(-1,1),Z2),inv_K_Z2Z2),K2(Z2,f1_sample_list[i].reshape(-1,1)))+tf.linalg.matmul(tf.linalg.matmul(tf.linalg.matmul(tf.linalg.matmul(K2(f1_sample_list[i].reshape(-1,1),Z2),inv_K_Z2Z2),S2@tf.transpose(S2)),inv_K_Z2Z2),K2(Z2,f1_sample_list[i].reshape(-1,1)))\n",
    "        f2_sample = tf.math.reduce_mean(tfp.distributions.Normal(f2_sample_mean,f2_sample_covariance).sample(100))\n",
    "        \n",
    "        likelihood =tf.math.multiply(tf.cast(-1/2,tf.float64),tf.math.log(tf.math.multiply(tf.cast(2,tf.float64),tf.math.multiply(pi,tf.math.square(noise))))) - tf.math.divide(tf.math.square((Y[i]-f2_sample)),tf.math.square(noise))\n",
    "        likelihood_GP = likelihood_GP + likelihood\n",
    "      \n",
    "   \n",
    "    KL1 = tf.math.multiply(tf.cast(-1/2,tf.float64),(tf.linalg.trace(tf.linalg.matmul(inv_K_Z1Z1,S1@tf.transpose(S1)))+tf.linalg.matmul(tf.linalg.matmul(tf.transpose(m1),inv_K_Z1Z1),m1)-M+tf.math.log(tf.linalg.det(cholesky_with_jitter(K1(Z1,Z1),1e-5)))-tf.math.log(tf.linalg.det(S1@tf.transpose(S1)))))\n",
    "    KL2 = tf.math.multiply(tf.cast(-1/2,tf.float64),(tf.linalg.trace(tf.linalg.matmul(inv_K_Z2Z2,S2@tf.transpose(S2)))+tf.linalg.matmul(tf.linalg.matmul(tf.transpose(m2),inv_K_Z2Z2),m2)-M+tf.math.log(tf.linalg.det(cholesky_with_jitter(K2(Z2,Z2),1e-5)))-tf.math.log(tf.linalg.det(S2@tf.transpose(S2)))))\n",
    "    \n",
    "    KL_GP = KL1+KL2\n",
    "    \n",
    "    elbo = (likelihood_GP - KL_GP)\n",
    "\n",
    "\n",
    "\n",
    "    return elbo"
   ]
  },
  {
   "cell_type": "code",
   "execution_count": 7,
   "metadata": {},
   "outputs": [
    {
     "name": "stdout",
     "output_type": "stream",
     "text": [
      "0 objective: tf.Tensor([[-4.3061315e+14]], shape=(1, 1), dtype=float64)\n",
      "1 objective: tf.Tensor([[nan]], shape=(1, 1), dtype=float64)\n",
      "2 objective: tf.Tensor([[-7.98914107e+19]], shape=(1, 1), dtype=float64)\n",
      "3 objective: tf.Tensor([[-5.54708809e+19]], shape=(1, 1), dtype=float64)\n",
      "4 objective: tf.Tensor([[-3.18390893e+20]], shape=(1, 1), dtype=float64)\n",
      "5 objective: tf.Tensor([[-5.72362393e+21]], shape=(1, 1), dtype=float64)\n",
      "6 objective: tf.Tensor([[-6.31751516e+20]], shape=(1, 1), dtype=float64)\n",
      "7 objective: tf.Tensor([[-2.99561426e+21]], shape=(1, 1), dtype=float64)\n",
      "8 objective: tf.Tensor([[-2.96884613e+22]], shape=(1, 1), dtype=float64)\n",
      "9 objective: tf.Tensor([[-8.26276898e+20]], shape=(1, 1), dtype=float64)\n",
      "10 objective: tf.Tensor([[-9.08340853e+22]], shape=(1, 1), dtype=float64)\n",
      "11 objective: tf.Tensor([[-9.58039442e+22]], shape=(1, 1), dtype=float64)\n",
      "12 objective: tf.Tensor([[-5.75293597e+21]], shape=(1, 1), dtype=float64)\n",
      "13 objective: tf.Tensor([[-3.56461752e+22]], shape=(1, 1), dtype=float64)\n",
      "14 objective: tf.Tensor([[-2.31695487e+23]], shape=(1, 1), dtype=float64)\n",
      "15 objective: tf.Tensor([[-1.96257913e+23]], shape=(1, 1), dtype=float64)\n",
      "16 objective: tf.Tensor([[-9.14184314e+22]], shape=(1, 1), dtype=float64)\n",
      "17 objective: tf.Tensor([[-3.89926463e+22]], shape=(1, 1), dtype=float64)\n",
      "18 objective: tf.Tensor([[-3.89220913e+23]], shape=(1, 1), dtype=float64)\n",
      "19 objective: tf.Tensor([[-3.1236417e+22]], shape=(1, 1), dtype=float64)\n",
      "20 objective: tf.Tensor([[-3.62093276e+23]], shape=(1, 1), dtype=float64)\n",
      "21 objective: tf.Tensor([[-1.35953438e+24]], shape=(1, 1), dtype=float64)\n",
      "22 objective: tf.Tensor([[-7.05286091e+23]], shape=(1, 1), dtype=float64)\n",
      "23 objective: tf.Tensor([[-1.51883951e+24]], shape=(1, 1), dtype=float64)\n",
      "24 objective: tf.Tensor([[-5.33249941e+23]], shape=(1, 1), dtype=float64)\n",
      "25 objective: tf.Tensor([[-4.99803939e+23]], shape=(1, 1), dtype=float64)\n",
      "26 objective: tf.Tensor([[-4.010452e+23]], shape=(1, 1), dtype=float64)\n",
      "27 objective: tf.Tensor([[-4.15733982e+23]], shape=(1, 1), dtype=float64)\n",
      "28 objective: tf.Tensor([[-5.24728211e+23]], shape=(1, 1), dtype=float64)\n",
      "29 objective: tf.Tensor([[-2.42690158e+23]], shape=(1, 1), dtype=float64)\n",
      "30 objective: tf.Tensor([[-1.57282634e+24]], shape=(1, 1), dtype=float64)\n",
      "31 objective: tf.Tensor([[-5.2728839e+24]], shape=(1, 1), dtype=float64)\n",
      "32 objective: tf.Tensor([[-5.38525727e+23]], shape=(1, 1), dtype=float64)\n",
      "33 objective: tf.Tensor([[-9.38753326e+23]], shape=(1, 1), dtype=float64)\n",
      "34 objective: tf.Tensor([[-3.83794831e+24]], shape=(1, 1), dtype=float64)\n",
      "35 objective: tf.Tensor([[-6.4432771e+24]], shape=(1, 1), dtype=float64)\n",
      "36 objective: tf.Tensor([[-9.72436097e+23]], shape=(1, 1), dtype=float64)\n",
      "37 objective: tf.Tensor([[-2.56771816e+24]], shape=(1, 1), dtype=float64)\n",
      "38 objective: tf.Tensor([[-4.96344772e+23]], shape=(1, 1), dtype=float64)\n",
      "39 objective: tf.Tensor([[-1.65630906e+24]], shape=(1, 1), dtype=float64)\n",
      "40 objective: tf.Tensor([[-5.89542027e+24]], shape=(1, 1), dtype=float64)\n",
      "41 objective: tf.Tensor([[-7.38540801e+23]], shape=(1, 1), dtype=float64)\n",
      "42 objective: tf.Tensor([[-3.74244414e+25]], shape=(1, 1), dtype=float64)\n",
      "43 objective: tf.Tensor([[-1.31119655e+26]], shape=(1, 1), dtype=float64)\n",
      "44 objective: tf.Tensor([[-1.33822799e+25]], shape=(1, 1), dtype=float64)\n",
      "45 objective: tf.Tensor([[-4.02439952e+24]], shape=(1, 1), dtype=float64)\n",
      "46 objective: tf.Tensor([[-1.09350213e+25]], shape=(1, 1), dtype=float64)\n",
      "47 objective: tf.Tensor([[-5.87735621e+24]], shape=(1, 1), dtype=float64)\n",
      "48 objective: tf.Tensor([[-2.84278241e+25]], shape=(1, 1), dtype=float64)\n",
      "49 objective: tf.Tensor([[-1.02818491e+25]], shape=(1, 1), dtype=float64)\n",
      "50 objective: tf.Tensor([[-8.53470084e+25]], shape=(1, 1), dtype=float64)\n",
      "51 objective: tf.Tensor([[-3.86295988e+24]], shape=(1, 1), dtype=float64)\n",
      "52 objective: tf.Tensor([[-1.88364161e+24]], shape=(1, 1), dtype=float64)\n",
      "53 objective: tf.Tensor([[-2.36257288e+24]], shape=(1, 1), dtype=float64)\n",
      "54 objective: tf.Tensor([[-5.16376188e+25]], shape=(1, 1), dtype=float64)\n",
      "55 objective: tf.Tensor([[-1.26798479e+25]], shape=(1, 1), dtype=float64)\n",
      "56 objective: tf.Tensor([[-1.87084769e+24]], shape=(1, 1), dtype=float64)\n",
      "57 objective: tf.Tensor([[-1.42450636e+26]], shape=(1, 1), dtype=float64)\n",
      "58 objective: tf.Tensor([[-9.05292617e+24]], shape=(1, 1), dtype=float64)\n",
      "59 objective: tf.Tensor([[-6.75556811e+26]], shape=(1, 1), dtype=float64)\n",
      "60 objective: tf.Tensor([[-1.0723898e+25]], shape=(1, 1), dtype=float64)\n",
      "61 objective: tf.Tensor([[-8.00711928e+25]], shape=(1, 1), dtype=float64)\n",
      "62 objective: tf.Tensor([[-6.16888778e+24]], shape=(1, 1), dtype=float64)\n",
      "63 objective: tf.Tensor([[-2.62996635e+25]], shape=(1, 1), dtype=float64)\n",
      "64 objective: tf.Tensor([[-1.33182678e+25]], shape=(1, 1), dtype=float64)\n",
      "65 objective: tf.Tensor([[-2.79176785e+25]], shape=(1, 1), dtype=float64)\n",
      "66 objective: tf.Tensor([[-1.84085263e+25]], shape=(1, 1), dtype=float64)\n",
      "67 objective: tf.Tensor([[-1.72581171e+26]], shape=(1, 1), dtype=float64)\n",
      "68 objective: tf.Tensor([[-4.43699974e+26]], shape=(1, 1), dtype=float64)\n",
      "69 objective: tf.Tensor([[-1.27179112e+26]], shape=(1, 1), dtype=float64)\n",
      "70 objective: tf.Tensor([[-2.67908285e+27]], shape=(1, 1), dtype=float64)\n",
      "71 objective: tf.Tensor([[-4.36457053e+25]], shape=(1, 1), dtype=float64)\n",
      "72 objective: tf.Tensor([[-1.47090665e+26]], shape=(1, 1), dtype=float64)\n",
      "73 objective: tf.Tensor([[-2.03858963e+26]], shape=(1, 1), dtype=float64)\n",
      "74 objective: tf.Tensor([[-2.40313616e+25]], shape=(1, 1), dtype=float64)\n",
      "75 objective: tf.Tensor([[-4.25185339e+25]], shape=(1, 1), dtype=float64)\n",
      "76 objective: tf.Tensor([[-2.02857658e+26]], shape=(1, 1), dtype=float64)\n",
      "77 objective: tf.Tensor([[-2.693902e+26]], shape=(1, 1), dtype=float64)\n",
      "78 objective: tf.Tensor([[-5.4535501e+25]], shape=(1, 1), dtype=float64)\n",
      "79 objective: tf.Tensor([[-5.57331043e+25]], shape=(1, 1), dtype=float64)\n",
      "80 objective: tf.Tensor([[-1.34564367e+26]], shape=(1, 1), dtype=float64)\n",
      "81 objective: tf.Tensor([[-2.91323511e+26]], shape=(1, 1), dtype=float64)\n",
      "82 objective: tf.Tensor([[-7.48721696e+25]], shape=(1, 1), dtype=float64)\n",
      "83 objective: tf.Tensor([[-2.75101245e+25]], shape=(1, 1), dtype=float64)\n",
      "84 objective: tf.Tensor([[-1.11563847e+27]], shape=(1, 1), dtype=float64)\n",
      "85 objective: tf.Tensor([[-4.35311299e+26]], shape=(1, 1), dtype=float64)\n",
      "86 objective: tf.Tensor([[-9.39063947e+26]], shape=(1, 1), dtype=float64)\n",
      "87 objective: tf.Tensor([[-5.89137092e+25]], shape=(1, 1), dtype=float64)\n",
      "88 objective: tf.Tensor([[-1.90520106e+27]], shape=(1, 1), dtype=float64)\n",
      "89 objective: tf.Tensor([[-1.25901327e+27]], shape=(1, 1), dtype=float64)\n",
      "90 objective: tf.Tensor([[-4.2300643e+26]], shape=(1, 1), dtype=float64)\n",
      "91 objective: tf.Tensor([[-3.69012444e+26]], shape=(1, 1), dtype=float64)\n",
      "92 objective: tf.Tensor([[-6.67009061e+25]], shape=(1, 1), dtype=float64)\n",
      "93 objective: tf.Tensor([[-5.00994746e+26]], shape=(1, 1), dtype=float64)\n",
      "94 objective: tf.Tensor([[-6.51519472e+26]], shape=(1, 1), dtype=float64)\n",
      "95 objective: tf.Tensor([[-1.50106642e+27]], shape=(1, 1), dtype=float64)\n",
      "96 objective: tf.Tensor([[-4.66164456e+25]], shape=(1, 1), dtype=float64)\n",
      "97 objective: tf.Tensor([[-7.83932127e+25]], shape=(1, 1), dtype=float64)\n",
      "98 objective: tf.Tensor([[-2.06683548e+25]], shape=(1, 1), dtype=float64)\n",
      "99 objective: tf.Tensor([[-2.01484939e+27]], shape=(1, 1), dtype=float64)\n"
     ]
    }
   ],
   "source": [
    "optimizer = tf.keras.optimizers.Adam(learning_rate = 0.5)\n",
    "for i in range(100):\n",
    "    with tf.GradientTape() as tape:\n",
    "        objective = elbo(m1,S1,m2,S2)\n",
    "        gradients = tape.gradient(objective, [m1,S1,m2,S2])\n",
    "    print(i, \"objective:\", objective)\n",
    "    optimizer.apply_gradients(zip(gradients, [m1,S1,m2,S2]))"
   ]
  },
  {
   "cell_type": "code",
   "execution_count": 8,
   "metadata": {},
   "outputs": [
    {
     "name": "stderr",
     "output_type": "stream",
     "text": [
      "/opt/anaconda3/envs/tensorflow/lib/python3.7/site-packages/ipykernel_launcher.py:4: RuntimeWarning: covariance is not positive-semidefinite.\n",
      "  after removing the cwd from sys.path.\n"
     ]
    }
   ],
   "source": [
    "inv_K_Z1Z1 = inv(  cholesky_with_jitter(K1(Z1,Z1),1e-10)@tf.transpose(cholesky_with_jitter(K1(Z1,Z1),1e-10)))\n",
    "f1_sample_mean = np.matmul(np.matmul(K1(Xs,Z1),inv_K_Z1Z1),m1)\n",
    "f1_sample_covariance = K1(Xs,Xs)-np.matmul(np.matmul(K1(Xs,Z1),inv_K_Z1Z1),K1(Z1,Xs))+np.matmul(np.matmul(np.matmul(np.matmul(K1(Xs,Z1),inv_K_Z1Z1),S1@tf.transpose(S1)),inv_K_Z1Z1),K1(Z1,Xs))\n",
    "f1_samples = np.random.multivariate_normal(f1_sample_mean.reshape(100,), f1_sample_covariance, 10)\n",
    "\n"
   ]
  },
  {
   "cell_type": "code",
   "execution_count": 9,
   "metadata": {},
   "outputs": [
    {
     "data": {
      "text/plain": [
       "[<matplotlib.lines.Line2D at 0x7fe7589b93d0>,\n",
       " <matplotlib.lines.Line2D at 0x7fe7589b9d90>,\n",
       " <matplotlib.lines.Line2D at 0x7fe758ac9350>,\n",
       " <matplotlib.lines.Line2D at 0x7fe7597051d0>,\n",
       " <matplotlib.lines.Line2D at 0x7fe759705290>,\n",
       " <matplotlib.lines.Line2D at 0x7fe756ec0690>,\n",
       " <matplotlib.lines.Line2D at 0x7fe756ec0150>,\n",
       " <matplotlib.lines.Line2D at 0x7fe756ec0510>,\n",
       " <matplotlib.lines.Line2D at 0x7fe759705a90>,\n",
       " <matplotlib.lines.Line2D at 0x7fe7597053d0>]"
      ]
     },
     "execution_count": 9,
     "metadata": {},
     "output_type": "execute_result"
    },
    {
     "data": {
      "image/png": "[encoded data removed]",
      "text/plain": [
       "<Figure size 432x288 with 1 Axes>"
      ]
     },
     "metadata": {
      "needs_background": "light"
     },
     "output_type": "display_data"
    }
   ],
   "source": [
    "fig = plt.figure()\n",
    "ax = plt.axes()\n",
    "ax.plot(Xs,f1_samples.T)"
   ]
  },
  {
   "cell_type": "code",
   "execution_count": 11,
   "metadata": {},
   "outputs": [],
   "source": [
    "inv_K_Z1Z1 = inv(  cholesky_with_jitter(K1(Z1,Z1),1e-10)@tf.transpose(cholesky_with_jitter(K1(Z1,Z1),1e-10)))\n",
    "\n",
    "f1_sample_list = []\n",
    "\n",
    "for i in range (0,len(Xs)):\n",
    "        \n",
    "    f1_sample_mean = tf.linalg.matmul(tf.linalg.matmul(K1(Xs.reshape(-1,1),Z1),inv_K_Z1Z1),m1)\n",
    "    f1_sample_covariance = K1(Xs.reshape(-1,1),Xs.reshape(-1,1))-tf.linalg.matmul(tf.linalg.matmul(K1(Xs.reshape(-1,1),Z1),inv_K_Z1Z1),K1(Z1,Xs.reshape(-1,1)))+tf.linalg.matmul(tf.linalg.matmul(tf.linalg.matmul(tf.linalg.matmul(K1(Xs.reshape(-1,1),Z1),inv_K_Z1Z1),S1@tf.transpose(S1)),inv_K_Z1Z1),K1(Z1,Xs.reshape(-1,1)))\n",
    "    f1_sample = tf.math.reduce_mean(tfp.distributions.Normal(f1_sample_mean,f1_sample_covariance).sample(100))\n",
    "    f1_sample_list.append(f1_sample)"
   ]
  },
  {
   "cell_type": "code",
   "execution_count": 12,
   "metadata": {},
   "outputs": [],
   "source": [
    "f1_sample_list = np.array(f1_sample_list).reshape(-1,1)"
   ]
  },
  {
   "cell_type": "code",
   "execution_count": 13,
   "metadata": {},
   "outputs": [
    {
     "name": "stderr",
     "output_type": "stream",
     "text": [
      "/opt/anaconda3/envs/tensorflow/lib/python3.7/site-packages/ipykernel_launcher.py:6: RuntimeWarning: covariance is not positive-semidefinite.\n",
      "  \n"
     ]
    }
   ],
   "source": [
    "inv_K_Z2Z2 = inv(  cholesky_with_jitter(K2(Z2,Z2),1e-10)@tf.transpose(cholesky_with_jitter(K2(Z2,Z2),1e-10)))\n",
    "\n",
    "\n",
    "f2_sample_mean = np.matmul(np.matmul(K2(f1_sample_list,Z2),inv_K_Z2Z2),m2)\n",
    "f2_sample_covariance = K2(f1_sample_list,f1_sample_list)-np.matmul(np.matmul(K2(f1_sample_list,Z2),inv_K_Z2Z2),K2(Z2,f1_sample_list))+np.matmul(np.matmul(np.matmul(np.matmul(K2(f1_sample_list,Z2),inv_K_Z2Z2),S2@tf.transpose(S2)),inv_K_Z2Z2),K2(Z2,f1_sample_list))\n",
    "f2_samples = np.random.multivariate_normal(f2_sample_mean.reshape(100,), f2_sample_covariance, 10)\n",
    "\n",
    "\n",
    "\n"
   ]
  },
  {
   "cell_type": "code",
   "execution_count": 14,
   "metadata": {},
   "outputs": [
    {
     "data": {
      "text/plain": [
       "(100, 1)"
      ]
     },
     "execution_count": 14,
     "metadata": {},
     "output_type": "execute_result"
    }
   ],
   "source": [
    "f1_sample_list.shape"
   ]
  },
  {
   "cell_type": "code",
   "execution_count": 15,
   "metadata": {},
   "outputs": [
    {
     "data": {
      "text/plain": [
       "(100,)"
      ]
     },
     "execution_count": 15,
     "metadata": {},
     "output_type": "execute_result"
    }
   ],
   "source": [
    "f2_samples[0].T.shape"
   ]
  },
  {
   "cell_type": "code",
   "execution_count": 16,
   "metadata": {},
   "outputs": [
    {
     "data": {
      "text/plain": [
       "[<matplotlib.lines.Line2D at 0x7fe759be9590>,\n",
       " <matplotlib.lines.Line2D at 0x7fe7582c5f90>,\n",
       " <matplotlib.lines.Line2D at 0x7fe755610450>,\n",
       " <matplotlib.lines.Line2D at 0x7fe758457410>,\n",
       " <matplotlib.lines.Line2D at 0x7fe7599513d0>,\n",
       " <matplotlib.lines.Line2D at 0x7fe759951c50>,\n",
       " <matplotlib.lines.Line2D at 0x7fe759951fd0>,\n",
       " <matplotlib.lines.Line2D at 0x7fe759951750>,\n",
       " <matplotlib.lines.Line2D at 0x7fe759951a10>,\n",
       " <matplotlib.lines.Line2D at 0x7fe759951d10>]"
      ]
     },
     "execution_count": 16,
     "metadata": {},
     "output_type": "execute_result"
    },
    {
     "data": {
      "image/png": "[encoded data removed]",
      "text/plain": [
       "<Figure size 432x288 with 1 Axes>"
      ]
     },
     "metadata": {
      "needs_background": "light"
     },
     "output_type": "display_data"
    }
   ],
   "source": [
    "fig = plt.figure()\n",
    "ax = plt.axes()\n",
    "ax.plot(f1_sample_list,f2_samples.T)"
   ]
  },
  {
   "cell_type": "code",
   "execution_count": 17,
   "metadata": {},
   "outputs": [
    {
     "data": {
      "text/plain": [
       "<matplotlib.collections.PathCollection at 0x7fe7595f22d0>"
      ]
     },
     "execution_count": 17,
     "metadata": {},
     "output_type": "execute_result"
    },
    {
     "data": {
      "image/png": "[encoded data removed]",
      "text/plain": [
       "<Figure size 432x288 with 1 Axes>"
      ]
     },
     "metadata": {
      "needs_background": "light"
     },
     "output_type": "display_data"
    }
   ],
   "source": [
    "fig = plt.figure()\n",
    "ax = plt.axes()\n",
    "ax.scatter(f1_sample_list,f2_samples[2].T)"
   ]
  },
  {
   "cell_type": "code",
   "execution_count": 21,
   "metadata": {},
   "outputs": [
    {
     "data": {
      "text/plain": [
       "[<matplotlib.lines.Line2D at 0x7fe75565d7d0>,\n",
       " <matplotlib.lines.Line2D at 0x7fe759cb2e90>,\n",
       " <matplotlib.lines.Line2D at 0x7fe759cb2790>,\n",
       " <matplotlib.lines.Line2D at 0x7fe759cb20d0>,\n",
       " <matplotlib.lines.Line2D at 0x7fe759cb2450>,\n",
       " <matplotlib.lines.Line2D at 0x7fe759cb28d0>,\n",
       " <matplotlib.lines.Line2D at 0x7fe75966bcd0>,\n",
       " <matplotlib.lines.Line2D at 0x7fe75966b290>,\n",
       " <matplotlib.lines.Line2D at 0x7fe759cb2890>,\n",
       " <matplotlib.lines.Line2D at 0x7fe759cb2210>]"
      ]
     },
     "execution_count": 21,
     "metadata": {},
     "output_type": "execute_result"
    },
    {
     "data": {
      "image/png": "[encoded data removed]",
      "text/plain": [
       "<Figure size 432x288 with 1 Axes>"
      ]
     },
     "metadata": {
      "needs_background": "light"
     },
     "output_type": "display_data"
    }
   ],
   "source": [
    "fig = plt.figure()\n",
    "ax = plt.axes()\n",
    "ax.plot(Xs,f2_samples.T)"
   ]
  },
  {
   "cell_type": "code",
   "execution_count": 20,
   "metadata": {},
   "outputs": [
    {
     "data": {
      "text/plain": [
       "<matplotlib.collections.PathCollection at 0x7fe754c725d0>"
      ]
     },
     "execution_count": 20,
     "metadata": {},
     "output_type": "execute_result"
    },
    {
     "data": {
      "image/png": "[encoded data removed]",
      "text/plain": [
       "<Figure size 432x288 with 1 Axes>"
      ]
     },
     "metadata": {
      "needs_background": "light"
     },
     "output_type": "display_data"
    }
   ],
   "source": [
    "fig = plt.figure()\n",
    "ax = plt.axes()\n",
    "ax.scatter(Xs,f2_samples[0].T)"
   ]
  },
  {
   "cell_type": "code",
   "execution_count": null,
   "metadata": {},
   "outputs": [],
   "source": []
  }
 ],
 "metadata": {
  "kernelspec": {
   "display_name": "Python 3",
   "language": "python",
   "name": "python3"
  },
  "language_info": {
   "codemirror_mode": {
    "name": "ipython",
    "version": 3
   },
   "file_extension": ".py",
   "mimetype": "text/x-python",
   "name": "python",
   "nbconvert_exporter": "python",
   "pygments_lexer": "ipython3",
   "version": "3.7.6"
  }
 },
 "nbformat": 4,
 "nbformat_minor": 4
}
